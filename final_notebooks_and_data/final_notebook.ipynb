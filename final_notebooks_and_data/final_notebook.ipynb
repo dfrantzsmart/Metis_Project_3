{
 "cells": [
  {
   "cell_type": "code",
   "execution_count": 1,
   "metadata": {},
   "outputs": [
    {
     "name": "stdout",
     "output_type": "stream",
     "text": [
      "Populating the interactive namespace from numpy and matplotlib\n"
     ]
    }
   ],
   "source": [
    "import xgboost as xgb\n",
    "import pandas as pd\n",
    "import seaborn as sns\n",
    "sns.set_style(\"whitegrid\")\n",
    "\n",
    "%pylab inline\n",
    "\n",
    "\n",
    "%config InlineBackend.figure_formats = ['retina']\n"
   ]
  },
  {
   "cell_type": "markdown",
   "metadata": {},
   "source": [
    "## Access information in CSV - Info through 2019 from Kaggle, 2020 info from online, Week 8 spreads from CBS Sports App."
   ]
  },
  {
   "cell_type": "code",
   "execution_count": 2,
   "metadata": {},
   "outputs": [],
   "source": [
    "df=pd.read_csv('/Users/gavin/Documents/Metis/Coursework/Project_3/final_notebook/NFL_week_data_v3.csv')"
   ]
  },
  {
   "cell_type": "code",
   "execution_count": 3,
   "metadata": {},
   "outputs": [
    {
     "data": {
      "text/plain": [
       "schedule_date                   object\n",
       "schedule_season                  int64\n",
       "schedule_week                    int64\n",
       "target                          object\n",
       "target_score                   float64\n",
       "opponent_score                 float64\n",
       "opponent                        object\n",
       "target_spread                  float64\n",
       "opponent_spread                float64\n",
       "target_games_played            float64\n",
       "opponent_games_played          float64\n",
       "target_off_points_scored       float64\n",
       "opponent_off_points_scored     float64\n",
       "target_def_points_against      float64\n",
       "opponent_def_points_against    float64\n",
       "Won_game                       float64\n",
       "won_spread                     float64\n",
       "lost_game                      float64\n",
       "lost_spread                    float64\n",
       "win_percent                     object\n",
       "win_spread_percent              object\n",
       "opponent_win_percentage         object\n",
       "opponent_spread_percentage      object\n",
       "dtype: object"
      ]
     },
     "execution_count": 3,
     "metadata": {},
     "output_type": "execute_result"
    }
   ],
   "source": [
    "df.dtypes"
   ]
  },
  {
   "cell_type": "markdown",
   "metadata": {},
   "source": [
    "## Feature Engineering"
   ]
  },
  {
   "cell_type": "markdown",
   "metadata": {},
   "source": [
    "Features: \n",
    "\n",
    "1. target points per game ÷ opponent points per game ÷ (150-spread) (offense outscoriong vs. expectation)\n",
    "\n",
    "2. target points against per game ÷ opponent points against per game ÷ (150-spread) (defensive outperformance vs. expectation)\n",
    "\n",
    "3. Win percentage against the spread\n",
    "\n",
    "4. is the target the favorite?"
   ]
  },
  {
   "cell_type": "code",
   "execution_count": 4,
   "metadata": {},
   "outputs": [],
   "source": [
    "df['win_percent']=df['win_percent'].apply(float)\n",
    "df['win_spread_percent']=df['win_spread_percent'].apply(float)\n",
    "df['opponent_win_percentage']=df['opponent_win_percentage'].apply(float)\n",
    "df['opponent_spread_percentage']=df['opponent_spread_percentage'].apply(float)"
   ]
  },
  {
   "cell_type": "code",
   "execution_count": 5,
   "metadata": {},
   "outputs": [],
   "source": [
    "df['target_favorite']=0\n",
    "df.loc[df['target_spread']<0, 'target_favorite']=1"
   ]
  },
  {
   "cell_type": "code",
   "execution_count": 6,
   "metadata": {},
   "outputs": [],
   "source": [
    "df['target_off_points_game'] = df['target_off_points_scored']/df['target_games_played']\n",
    "df['opponent_off_points_game'] = df['opponent_off_points_scored']/df['opponent_games_played']\n",
    "df['target_def_points_against_game'] = df['target_def_points_against']/df['target_games_played']\n",
    "df['opponent_def_points_against_game'] = df['opponent_def_points_against']/df['opponent_games_played']"
   ]
  },
  {
   "cell_type": "code",
   "execution_count": 7,
   "metadata": {},
   "outputs": [],
   "source": [
    "df['target_score_spread_adj'] = df['target_score']+df['target_spread']\n",
    "df['beat_spread']=0\n",
    "df.loc[df['target_score_spread_adj']>df['opponent_score'], 'beat_spread'] = 1"
   ]
  },
  {
   "cell_type": "markdown",
   "metadata": {},
   "source": [
    "'spread impactor' is 150-spread, adjusts for negative/positive nature of spread"
   ]
  },
  {
   "cell_type": "code",
   "execution_count": 8,
   "metadata": {},
   "outputs": [],
   "source": [
    "df['off_spread_impactor'] = 150-df['target_spread']\n",
    "df['def_spread_impactor'] = 150-df['target_spread']"
   ]
  },
  {
   "cell_type": "code",
   "execution_count": 9,
   "metadata": {},
   "outputs": [],
   "source": [
    "df['win_percent_SI'] = df['win_percent']/df['opponent_win_percentage']/df['off_spread_impactor']\n",
    "df['win_spread_percent_SI'] = df['win_spread_percent']/df['opponent_spread_percentage']/df['off_spread_impactor']"
   ]
  },
  {
   "cell_type": "code",
   "execution_count": 10,
   "metadata": {},
   "outputs": [],
   "source": [
    "df['off_points_SI'] = df['target_off_points_game']/df['opponent_off_points_game']/df['off_spread_impactor']*100\n",
    "df['def_points_SI'] = df['target_def_points_against_game']/df['opponent_def_points_against_game']/df['def_spread_impactor']*100"
   ]
  },
  {
   "cell_type": "markdown",
   "metadata": {},
   "source": [
    "Removing week 8, whose games have not yet occured:"
   ]
  },
  {
   "cell_type": "code",
   "execution_count": 178,
   "metadata": {},
   "outputs": [],
   "source": [
    "df_predict = df[(df['schedule_season']==2020) & (df['schedule_week']==8)].copy()\n",
    "df_run = df[(df['schedule_season']!=2020) | (df['schedule_week']!=8)].copy()"
   ]
  },
  {
   "cell_type": "code",
   "execution_count": 180,
   "metadata": {},
   "outputs": [],
   "source": [
    "df_run.loc[df_run['win_percent_SI']==np.inf, 'win_percent_SI']=0\n",
    "df_run.loc[df_run['win_spread_percent_SI']==np.inf, 'win_spread_percent_SI']=0"
   ]
  },
  {
   "cell_type": "code",
   "execution_count": 610,
   "metadata": {},
   "outputs": [],
   "source": [
    "df_predict.to_csv('/Users/gavin/documents/metis/coursework/project_3/final_package/week_8.csv')"
   ]
  },
  {
   "cell_type": "code",
   "execution_count": 631,
   "metadata": {},
   "outputs": [
    {
     "data": {
      "text/plain": [
       "2770       Carolina Panthers\n",
       "2771         Atlanta Falcons\n",
       "2772           Detroit Lions\n",
       "2773      Indianapolis Colts\n",
       "2774          Miami Dolphins\n",
       "2775        Los Angeles Rams\n",
       "2776        Cleveland Browns\n",
       "2777         Oakland Raiders\n",
       "2778       Green Bay Packers\n",
       "2779       Minnesota Vikings\n",
       "2780           Buffalo Bills\n",
       "2781    New England Patriots\n",
       "2782      Kansas City Chiefs\n",
       "2783           New York Jets\n",
       "2784        Baltimore Ravens\n",
       "2785     Pittsburgh Steelers\n",
       "2786      Cincinnati Bengals\n",
       "2787        Tennessee Titans\n",
       "2788          Denver Broncos\n",
       "2789    Los Angeles Chargers\n",
       "2790           Chicago Bears\n",
       "2791      New Orleans Saints\n",
       "2792        Seattle Seahawks\n",
       "2793     San Francisco 49ers\n",
       "2794     Philadelphia Eagles\n",
       "2795          Dallas Cowboys\n",
       "2796         New York Giants\n",
       "2797    Tampa Bay Buccaneers\n",
       "Name: opponent, dtype: object"
      ]
     },
     "execution_count": 631,
     "metadata": {},
     "output_type": "execute_result"
    }
   ],
   "source": [
    "df_predict['opponent']"
   ]
  },
  {
   "cell_type": "markdown",
   "metadata": {},
   "source": [
    "Because features are calculated on a per-year basis (and therefore restarts at the beginning of each year, model requires a few weeks to build a pattern of winning and losing. Therefore, we begin at week 7."
   ]
  },
  {
   "cell_type": "code",
   "execution_count": null,
   "metadata": {},
   "outputs": [],
   "source": [
    "df_run3 = df_run[df_run['schedule_week']>6]"
   ]
  },
  {
   "cell_type": "code",
   "execution_count": 461,
   "metadata": {},
   "outputs": [
    {
     "data": {
      "text/plain": [
       "schedule_date                       0\n",
       "schedule_season                     0\n",
       "schedule_week                       0\n",
       "target                              0\n",
       "target_score                        0\n",
       "opponent_score                      0\n",
       "opponent                            0\n",
       "target_spread                       0\n",
       "opponent_spread                     0\n",
       "target_games_played                 0\n",
       "opponent_games_played               0\n",
       "target_off_points_scored            0\n",
       "opponent_off_points_scored          0\n",
       "target_def_points_against           0\n",
       "opponent_def_points_against         0\n",
       "Won_game                            0\n",
       "won_spread                          0\n",
       "lost_game                           0\n",
       "lost_spread                         0\n",
       "win_percent                         0\n",
       "win_spread_percent                  0\n",
       "opponent_win_percentage             0\n",
       "opponent_spread_percentage          0\n",
       "target_favorite                     0\n",
       "target_off_points_game              0\n",
       "opponent_off_points_game            0\n",
       "target_def_points_against_game      0\n",
       "opponent_def_points_against_game    0\n",
       "target_score_spread_adj             0\n",
       "beat_spread                         0\n",
       "off_spread_impactor                 0\n",
       "def_spread_impactor                 0\n",
       "win_percent_SI                      0\n",
       "win_spread_percent_SI               0\n",
       "off_points_SI                       0\n",
       "def_points_SI                       0\n",
       "dtype: int64"
      ]
     },
     "execution_count": 461,
     "metadata": {},
     "output_type": "execute_result"
    }
   ],
   "source": [
    "df_run3.isnull().sum()"
   ]
  },
  {
   "cell_type": "markdown",
   "metadata": {},
   "source": [
    "Establish X (features) and y"
   ]
  },
  {
   "cell_type": "code",
   "execution_count": 558,
   "metadata": {},
   "outputs": [],
   "source": [
    "#'target_favorite', ,'def_points_SI','target_favorite''win_percent_SI'\n",
    "X=df_run3[['off_points_SI', 'win_spread_percent_SI','def_points_SI', 'target_favorite']]\n",
    "y=df_run3['beat_spread']"
   ]
  },
  {
   "cell_type": "markdown",
   "metadata": {},
   "source": [
    "## Regressions"
   ]
  },
  {
   "cell_type": "markdown",
   "metadata": {},
   "source": [
    "XGBoost:"
   ]
  },
  {
   "cell_type": "code",
   "execution_count": 559,
   "metadata": {},
   "outputs": [],
   "source": [
    "from sklearn.model_selection import train_test_split\n",
    "from sklearn.metrics import precision_score, recall_score, accuracy_score, roc_auc_score\n",
    "\n",
    "#Split data into 3: 60% train, 20% validation, 20% test\n",
    "X_train, X_test, y_train, y_test = train_test_split(X, y, test_size=0.2, random_state=10)\n",
    "X_train, X_val, y_train, y_val = train_test_split(X_train, y_train, test_size=0.25, random_state=10)"
   ]
  },
  {
   "cell_type": "code",
   "execution_count": 560,
   "metadata": {},
   "outputs": [
    {
     "name": "stdout",
     "output_type": "stream",
     "text": [
      "[0]\tvalidation_0-auc:0.59437\tvalidation_1-auc:0.48015\n",
      "Multiple eval metrics have been passed: 'validation_1-auc' will be used for early stopping.\n",
      "\n",
      "Will train until validation_1-auc hasn't improved in 50 rounds.\n",
      "[1]\tvalidation_0-auc:0.60696\tvalidation_1-auc:0.49003\n",
      "[2]\tvalidation_0-auc:0.61391\tvalidation_1-auc:0.47211\n",
      "[3]\tvalidation_0-auc:0.61986\tvalidation_1-auc:0.48088\n",
      "[4]\tvalidation_0-auc:0.62912\tvalidation_1-auc:0.48214\n",
      "[5]\tvalidation_0-auc:0.62643\tvalidation_1-auc:0.47385\n",
      "[6]\tvalidation_0-auc:0.63678\tvalidation_1-auc:0.48248\n",
      "[7]\tvalidation_0-auc:0.64244\tvalidation_1-auc:0.49125\n",
      "[8]\tvalidation_0-auc:0.64148\tvalidation_1-auc:0.49733\n",
      "[9]\tvalidation_0-auc:0.64281\tvalidation_1-auc:0.50445\n",
      "[10]\tvalidation_0-auc:0.65223\tvalidation_1-auc:0.50577\n",
      "[11]\tvalidation_0-auc:0.65784\tvalidation_1-auc:0.50558\n",
      "[12]\tvalidation_0-auc:0.65785\tvalidation_1-auc:0.50621\n",
      "[13]\tvalidation_0-auc:0.65503\tvalidation_1-auc:0.50940\n",
      "[14]\tvalidation_0-auc:0.65916\tvalidation_1-auc:0.50949\n",
      "[15]\tvalidation_0-auc:0.66404\tvalidation_1-auc:0.50995\n",
      "[16]\tvalidation_0-auc:0.66822\tvalidation_1-auc:0.50965\n",
      "[17]\tvalidation_0-auc:0.66620\tvalidation_1-auc:0.50846\n",
      "[18]\tvalidation_0-auc:0.66565\tvalidation_1-auc:0.50811\n",
      "[19]\tvalidation_0-auc:0.66468\tvalidation_1-auc:0.50952\n",
      "[20]\tvalidation_0-auc:0.66799\tvalidation_1-auc:0.50985\n",
      "[21]\tvalidation_0-auc:0.66764\tvalidation_1-auc:0.50737\n",
      "[22]\tvalidation_0-auc:0.66886\tvalidation_1-auc:0.51040\n",
      "[23]\tvalidation_0-auc:0.66999\tvalidation_1-auc:0.51087\n",
      "[24]\tvalidation_0-auc:0.66840\tvalidation_1-auc:0.51422\n",
      "[25]\tvalidation_0-auc:0.67011\tvalidation_1-auc:0.51037\n",
      "[26]\tvalidation_0-auc:0.67379\tvalidation_1-auc:0.51592\n",
      "[27]\tvalidation_0-auc:0.67700\tvalidation_1-auc:0.51451\n",
      "[28]\tvalidation_0-auc:0.67656\tvalidation_1-auc:0.51731\n",
      "[29]\tvalidation_0-auc:0.67655\tvalidation_1-auc:0.51774\n",
      "[30]\tvalidation_0-auc:0.67768\tvalidation_1-auc:0.51957\n",
      "[31]\tvalidation_0-auc:0.67669\tvalidation_1-auc:0.51770\n",
      "[32]\tvalidation_0-auc:0.67522\tvalidation_1-auc:0.51756\n",
      "[33]\tvalidation_0-auc:0.67505\tvalidation_1-auc:0.51505\n",
      "[34]\tvalidation_0-auc:0.67557\tvalidation_1-auc:0.51397\n",
      "[35]\tvalidation_0-auc:0.67489\tvalidation_1-auc:0.51440\n",
      "[36]\tvalidation_0-auc:0.67795\tvalidation_1-auc:0.51428\n",
      "[37]\tvalidation_0-auc:0.67998\tvalidation_1-auc:0.51440\n",
      "[38]\tvalidation_0-auc:0.67974\tvalidation_1-auc:0.51272\n",
      "[39]\tvalidation_0-auc:0.68102\tvalidation_1-auc:0.51221\n",
      "[40]\tvalidation_0-auc:0.68147\tvalidation_1-auc:0.51056\n",
      "[41]\tvalidation_0-auc:0.68158\tvalidation_1-auc:0.51067\n",
      "[42]\tvalidation_0-auc:0.68259\tvalidation_1-auc:0.51013\n",
      "[43]\tvalidation_0-auc:0.68446\tvalidation_1-auc:0.51092\n",
      "[44]\tvalidation_0-auc:0.68537\tvalidation_1-auc:0.51001\n",
      "[45]\tvalidation_0-auc:0.68728\tvalidation_1-auc:0.50927\n",
      "[46]\tvalidation_0-auc:0.68915\tvalidation_1-auc:0.50884\n",
      "[47]\tvalidation_0-auc:0.68812\tvalidation_1-auc:0.50838\n",
      "[48]\tvalidation_0-auc:0.68730\tvalidation_1-auc:0.50794\n",
      "[49]\tvalidation_0-auc:0.68832\tvalidation_1-auc:0.50882\n",
      "[50]\tvalidation_0-auc:0.68859\tvalidation_1-auc:0.50958\n",
      "[51]\tvalidation_0-auc:0.68875\tvalidation_1-auc:0.51062\n",
      "[52]\tvalidation_0-auc:0.69073\tvalidation_1-auc:0.51087\n",
      "[53]\tvalidation_0-auc:0.69251\tvalidation_1-auc:0.50743\n",
      "[54]\tvalidation_0-auc:0.69309\tvalidation_1-auc:0.50542\n",
      "[55]\tvalidation_0-auc:0.69283\tvalidation_1-auc:0.50581\n",
      "[56]\tvalidation_0-auc:0.69184\tvalidation_1-auc:0.50603\n",
      "[57]\tvalidation_0-auc:0.69217\tvalidation_1-auc:0.50474\n",
      "[58]\tvalidation_0-auc:0.69379\tvalidation_1-auc:0.50653\n",
      "[59]\tvalidation_0-auc:0.69323\tvalidation_1-auc:0.50764\n",
      "[60]\tvalidation_0-auc:0.69333\tvalidation_1-auc:0.50588\n",
      "[61]\tvalidation_0-auc:0.69442\tvalidation_1-auc:0.50434\n",
      "[62]\tvalidation_0-auc:0.69527\tvalidation_1-auc:0.50439\n",
      "[63]\tvalidation_0-auc:0.69430\tvalidation_1-auc:0.50310\n",
      "[64]\tvalidation_0-auc:0.69649\tvalidation_1-auc:0.50341\n",
      "[65]\tvalidation_0-auc:0.69781\tvalidation_1-auc:0.50699\n",
      "[66]\tvalidation_0-auc:0.69890\tvalidation_1-auc:0.50778\n",
      "[67]\tvalidation_0-auc:0.69977\tvalidation_1-auc:0.50592\n",
      "[68]\tvalidation_0-auc:0.70035\tvalidation_1-auc:0.50455\n",
      "[69]\tvalidation_0-auc:0.70089\tvalidation_1-auc:0.50613\n",
      "[70]\tvalidation_0-auc:0.70091\tvalidation_1-auc:0.50664\n",
      "[71]\tvalidation_0-auc:0.70214\tvalidation_1-auc:0.50789\n",
      "[72]\tvalidation_0-auc:0.70313\tvalidation_1-auc:0.50628\n",
      "[73]\tvalidation_0-auc:0.70510\tvalidation_1-auc:0.50534\n",
      "[74]\tvalidation_0-auc:0.70592\tvalidation_1-auc:0.50516\n",
      "[75]\tvalidation_0-auc:0.70533\tvalidation_1-auc:0.50542\n",
      "[76]\tvalidation_0-auc:0.70695\tvalidation_1-auc:0.50459\n",
      "[77]\tvalidation_0-auc:0.70933\tvalidation_1-auc:0.50459\n",
      "[78]\tvalidation_0-auc:0.71057\tvalidation_1-auc:0.50495\n",
      "[79]\tvalidation_0-auc:0.71060\tvalidation_1-auc:0.50585\n",
      "[80]\tvalidation_0-auc:0.71023\tvalidation_1-auc:0.50484\n",
      "Stopping. Best iteration:\n",
      "[30]\tvalidation_0-auc:0.67768\tvalidation_1-auc:0.51957\n",
      "\n"
     ]
    },
    {
     "data": {
      "text/plain": [
       "0.5898203592814372"
      ]
     },
     "execution_count": 560,
     "metadata": {},
     "output_type": "execute_result"
    }
   ],
   "source": [
    "gbm = xgb.XGBClassifier( \n",
    "                        n_estimators=30000,\n",
    "                        max_depth=3,\n",
    "                        objective='binary:logistic', #new objective\n",
    "                        learning_rate=.05, \n",
    "                        subsample=.8,\n",
    "                        min_child_weight=8,\n",
    "                        colsample_bytree=.8\n",
    "                       )\n",
    "\n",
    "eval_set=[(X_train,y_train),(X_val,y_val)]\n",
    "fit_model = gbm.fit( \n",
    "                    X_train, y_train, \n",
    "                    eval_set=eval_set,\n",
    "                    eval_metric='auc', #new evaluation metric: classification error (could also use AUC, e.g.)\n",
    "                    early_stopping_rounds=50,\n",
    "                    verbose=True\n",
    "                   )\n",
    "\n",
    "accuracy_score(y_test, gbm.predict(X_test, ntree_limit=gbm.best_ntree_limit)) "
   ]
  },
  {
   "cell_type": "markdown",
   "metadata": {},
   "source": [
    "Pickling for transfered use in streamlit"
   ]
  },
  {
   "cell_type": "code",
   "execution_count": 607,
   "metadata": {},
   "outputs": [],
   "source": [
    "import pickle\n",
    "outfile = open('nfl_xgb.pkl', 'wb')\n",
    "pickle.dump(gbm, outfile)\n",
    "outfile.close()"
   ]
  },
  {
   "cell_type": "code",
   "execution_count": 640,
   "metadata": {},
   "outputs": [
    {
     "data": {
      "image/png": "[encoded data removed]",
      "text/plain": [
       "<Figure size 504x504 with 2 Axes>"
      ]
     },
     "metadata": {
      "image/png": {
       "height": 394,
       "width": 409
      },
      "needs_background": "light"
     },
     "output_type": "display_data"
    }
   ],
   "source": [
    "from sklearn.metrics import plot_confusion_matrix, plot_roc_curve, classification_report\n",
    "fig, ax = plt.subplots(figsize=(7, 7))\n",
    "plot_confusion_matrix(gbm, X_test, y_test, ax=ax);"
   ]
  },
  {
   "cell_type": "code",
   "execution_count": 561,
   "metadata": {},
   "outputs": [],
   "source": [
    "test=gbm.predict(X_test, ntree_limit=gbm.best_ntree_limit)"
   ]
  },
  {
   "cell_type": "code",
   "execution_count": 562,
   "metadata": {},
   "outputs": [],
   "source": [
    "df_test = X_test.reset_index(drop=True)"
   ]
  },
  {
   "cell_type": "code",
   "execution_count": 563,
   "metadata": {},
   "outputs": [],
   "source": [
    "df_test['beat_spread']=y_test.reset_index(drop=True)"
   ]
  },
  {
   "cell_type": "code",
   "execution_count": 564,
   "metadata": {},
   "outputs": [],
   "source": [
    "df_test['prediction'] = test"
   ]
  },
  {
   "cell_type": "markdown",
   "metadata": {},
   "source": [
    "Inspecting prediction:"
   ]
  },
  {
   "cell_type": "code",
   "execution_count": 565,
   "metadata": {},
   "outputs": [
    {
     "data": {
      "text/html": [
       "<div>\n",
       "<style scoped>\n",
       "    .dataframe tbody tr th:only-of-type {\n",
       "        vertical-align: middle;\n",
       "    }\n",
       "\n",
       "    .dataframe tbody tr th {\n",
       "        vertical-align: top;\n",
       "    }\n",
       "\n",
       "    .dataframe thead th {\n",
       "        text-align: right;\n",
       "    }\n",
       "</style>\n",
       "<table border=\"1\" class=\"dataframe\">\n",
       "  <thead>\n",
       "    <tr style=\"text-align: right;\">\n",
       "      <th></th>\n",
       "      <th>off_points_SI</th>\n",
       "      <th>win_spread_percent_SI</th>\n",
       "      <th>def_points_SI</th>\n",
       "      <th>target_favorite</th>\n",
       "      <th>beat_spread</th>\n",
       "      <th>prediction</th>\n",
       "    </tr>\n",
       "  </thead>\n",
       "  <tbody>\n",
       "    <tr>\n",
       "      <th>1</th>\n",
       "      <td>0.759706</td>\n",
       "      <td>0.011182</td>\n",
       "      <td>0.502054</td>\n",
       "      <td>1</td>\n",
       "      <td>1</td>\n",
       "      <td>1</td>\n",
       "    </tr>\n",
       "    <tr>\n",
       "      <th>2</th>\n",
       "      <td>0.448491</td>\n",
       "      <td>0.002019</td>\n",
       "      <td>0.636819</td>\n",
       "      <td>0</td>\n",
       "      <td>1</td>\n",
       "      <td>1</td>\n",
       "    </tr>\n",
       "    <tr>\n",
       "      <th>3</th>\n",
       "      <td>0.709352</td>\n",
       "      <td>0.003268</td>\n",
       "      <td>0.600240</td>\n",
       "      <td>1</td>\n",
       "      <td>1</td>\n",
       "      <td>1</td>\n",
       "    </tr>\n",
       "    <tr>\n",
       "      <th>4</th>\n",
       "      <td>0.816837</td>\n",
       "      <td>0.005112</td>\n",
       "      <td>0.520968</td>\n",
       "      <td>1</td>\n",
       "      <td>1</td>\n",
       "      <td>1</td>\n",
       "    </tr>\n",
       "    <tr>\n",
       "      <th>7</th>\n",
       "      <td>0.701304</td>\n",
       "      <td>0.004892</td>\n",
       "      <td>0.675484</td>\n",
       "      <td>0</td>\n",
       "      <td>1</td>\n",
       "      <td>1</td>\n",
       "    </tr>\n",
       "    <tr>\n",
       "      <th>...</th>\n",
       "      <td>...</td>\n",
       "      <td>...</td>\n",
       "      <td>...</td>\n",
       "      <td>...</td>\n",
       "      <td>...</td>\n",
       "      <td>...</td>\n",
       "    </tr>\n",
       "    <tr>\n",
       "      <th>326</th>\n",
       "      <td>0.870266</td>\n",
       "      <td>0.031373</td>\n",
       "      <td>0.599009</td>\n",
       "      <td>1</td>\n",
       "      <td>1</td>\n",
       "      <td>1</td>\n",
       "    </tr>\n",
       "    <tr>\n",
       "      <th>328</th>\n",
       "      <td>0.525178</td>\n",
       "      <td>0.005757</td>\n",
       "      <td>0.559701</td>\n",
       "      <td>1</td>\n",
       "      <td>1</td>\n",
       "      <td>1</td>\n",
       "    </tr>\n",
       "    <tr>\n",
       "      <th>329</th>\n",
       "      <td>0.604575</td>\n",
       "      <td>0.005594</td>\n",
       "      <td>0.974907</td>\n",
       "      <td>0</td>\n",
       "      <td>0</td>\n",
       "      <td>1</td>\n",
       "    </tr>\n",
       "    <tr>\n",
       "      <th>330</th>\n",
       "      <td>0.524654</td>\n",
       "      <td>0.005447</td>\n",
       "      <td>0.462963</td>\n",
       "      <td>1</td>\n",
       "      <td>1</td>\n",
       "      <td>1</td>\n",
       "    </tr>\n",
       "    <tr>\n",
       "      <th>333</th>\n",
       "      <td>0.899599</td>\n",
       "      <td>0.005308</td>\n",
       "      <td>0.779985</td>\n",
       "      <td>1</td>\n",
       "      <td>1</td>\n",
       "      <td>1</td>\n",
       "    </tr>\n",
       "  </tbody>\n",
       "</table>\n",
       "<p>178 rows × 6 columns</p>\n",
       "</div>"
      ],
      "text/plain": [
       "     off_points_SI  win_spread_percent_SI  def_points_SI  target_favorite  \\\n",
       "1         0.759706               0.011182       0.502054                1   \n",
       "2         0.448491               0.002019       0.636819                0   \n",
       "3         0.709352               0.003268       0.600240                1   \n",
       "4         0.816837               0.005112       0.520968                1   \n",
       "7         0.701304               0.004892       0.675484                0   \n",
       "..             ...                    ...            ...              ...   \n",
       "326       0.870266               0.031373       0.599009                1   \n",
       "328       0.525178               0.005757       0.559701                1   \n",
       "329       0.604575               0.005594       0.974907                0   \n",
       "330       0.524654               0.005447       0.462963                1   \n",
       "333       0.899599               0.005308       0.779985                1   \n",
       "\n",
       "     beat_spread  prediction  \n",
       "1              1           1  \n",
       "2              1           1  \n",
       "3              1           1  \n",
       "4              1           1  \n",
       "7              1           1  \n",
       "..           ...         ...  \n",
       "326            1           1  \n",
       "328            1           1  \n",
       "329            0           1  \n",
       "330            1           1  \n",
       "333            1           1  \n",
       "\n",
       "[178 rows x 6 columns]"
      ]
     },
     "execution_count": 565,
     "metadata": {},
     "output_type": "execute_result"
    }
   ],
   "source": [
    "df_test[df_test['prediction']==1]"
   ]
  },
  {
   "cell_type": "code",
   "execution_count": null,
   "metadata": {},
   "outputs": [],
   "source": [
    "precision calc:"
   ]
  },
  {
   "cell_type": "code",
   "execution_count": 566,
   "metadata": {},
   "outputs": [
    {
     "data": {
      "text/plain": [
       "98"
      ]
     },
     "execution_count": 566,
     "metadata": {},
     "output_type": "execute_result"
    }
   ],
   "source": [
    "df_test[df_test['prediction']==1].beat_spread.sum()"
   ]
  },
  {
   "cell_type": "code",
   "execution_count": 567,
   "metadata": {},
   "outputs": [
    {
     "data": {
      "text/plain": [
       "0.550561797752809"
      ]
     },
     "execution_count": 567,
     "metadata": {},
     "output_type": "execute_result"
    }
   ],
   "source": [
    "98/178"
   ]
  },
  {
   "cell_type": "code",
   "execution_count": 627,
   "metadata": {},
   "outputs": [],
   "source": [
    "X_pred = df_predict[['target','off_points_SI', 'win_spread_percent_SI','def_points_SI', 'target_favorite']].copy()\n",
    "X_pred.set_index('target', inplace=True)"
   ]
  },
  {
   "cell_type": "code",
   "execution_count": 628,
   "metadata": {},
   "outputs": [],
   "source": [
    "X_pred['predict']=gbm.predict(X_pred, ntree_limit=gbm.best_ntree_limit)\n",
    "X_pred.reset_index(inplace=True)\n",
    "X_isol = X_pred[['target', 'predict']].copy()"
   ]
  },
  {
   "cell_type": "markdown",
   "metadata": {},
   "source": [
    "Random Forest:"
   ]
  },
  {
   "cell_type": "code",
   "execution_count": 165,
   "metadata": {},
   "outputs": [],
   "source": [
    "from sklearn.neighbors import KNeighborsClassifier\n",
    "from sklearn.preprocessing import StandardScaler as ss"
   ]
  },
  {
   "cell_type": "code",
   "execution_count": 568,
   "metadata": {},
   "outputs": [
    {
     "data": {
      "text/plain": [
       "0.45808383233532934"
      ]
     },
     "execution_count": 568,
     "metadata": {},
     "output_type": "execute_result"
    }
   ],
   "source": [
    "from sklearn.ensemble import RandomForestClassifier\n",
    "\n",
    "randomforest = RandomForestClassifier()\n",
    "randomforest.fit(X_train, y_train)\n",
    "randomforest.score(X_test, y_test)\n"
   ]
  },
  {
   "cell_type": "markdown",
   "metadata": {},
   "source": [
    "Logistic Regression:"
   ]
  },
  {
   "cell_type": "code",
   "execution_count": 574,
   "metadata": {},
   "outputs": [],
   "source": [
    "from sklearn.linear_model import LogisticRegression\n",
    "from sklearn.preprocessing import StandardScaler"
   ]
  },
  {
   "cell_type": "code",
   "execution_count": 576,
   "metadata": {},
   "outputs": [],
   "source": [
    "ss=StandardScaler()\n",
    "xscale_test=ss.fit_transform(X_test)\n",
    "xscale_train=ss.fit_transform(X_train)"
   ]
  },
  {
   "cell_type": "code",
   "execution_count": 579,
   "metadata": {},
   "outputs": [
    {
     "data": {
      "text/plain": [
       "0.5119760479041916"
      ]
     },
     "execution_count": 579,
     "metadata": {},
     "output_type": "execute_result"
    }
   ],
   "source": [
    "lr=LogisticRegression()\n",
    "lr.fit(xscale_train, y_train)\n",
    "lr.score(xscale_test, y_test)"
   ]
  },
  {
   "cell_type": "markdown",
   "metadata": {},
   "source": [
    "K Nearest Neighbors:"
   ]
  },
  {
   "cell_type": "code",
   "execution_count": 581,
   "metadata": {},
   "outputs": [],
   "source": [
    "from sklearn.neighbors import KNeighborsClassifier"
   ]
  },
  {
   "cell_type": "code",
   "execution_count": 596,
   "metadata": {},
   "outputs": [
    {
     "data": {
      "text/plain": [
       "0.5239520958083832"
      ]
     },
     "execution_count": 596,
     "metadata": {},
     "output_type": "execute_result"
    }
   ],
   "source": [
    "knn = KNeighborsClassifier(n_neighbors=4)\n",
    "knn.fit(xscale_train, y_train)\n",
    "knn.score(xscale_test,y_test)\n"
   ]
  },
  {
   "cell_type": "markdown",
   "metadata": {},
   "source": [
    "SVC:"
   ]
  },
  {
   "cell_type": "code",
   "execution_count": 597,
   "metadata": {},
   "outputs": [],
   "source": [
    "from sklearn.svm import SVC"
   ]
  },
  {
   "cell_type": "code",
   "execution_count": 598,
   "metadata": {},
   "outputs": [
    {
     "data": {
      "text/plain": [
       "0.5389221556886228"
      ]
     },
     "execution_count": 598,
     "metadata": {},
     "output_type": "execute_result"
    }
   ],
   "source": [
    "svc=SVC()\n",
    "svc.fit(xscale_train, y_train)\n",
    "svc.score(xscale_test, y_test)"
   ]
  },
  {
   "cell_type": "markdown",
   "metadata": {},
   "source": [
    "Linear SVC:"
   ]
  },
  {
   "cell_type": "code",
   "execution_count": 599,
   "metadata": {},
   "outputs": [],
   "source": [
    "from sklearn.svm import LinearSVC"
   ]
  },
  {
   "cell_type": "code",
   "execution_count": 600,
   "metadata": {},
   "outputs": [
    {
     "name": "stderr",
     "output_type": "stream",
     "text": [
      "/opt/anaconda3/lib/python3.8/site-packages/sklearn/svm/_base.py:976: ConvergenceWarning: Liblinear failed to converge, increase the number of iterations.\n",
      "  warnings.warn(\"Liblinear failed to converge, increase \"\n"
     ]
    },
    {
     "data": {
      "text/plain": [
       "0.5209580838323353"
      ]
     },
     "execution_count": 600,
     "metadata": {},
     "output_type": "execute_result"
    }
   ],
   "source": [
    "lsvc=LinearSVC()\n",
    "lsvc.fit(xscale_train, y_train)\n",
    "lsvc.score(xscale_test, y_test)"
   ]
  },
  {
   "cell_type": "markdown",
   "metadata": {},
   "source": [
    "Gaussian Naive Bayes:"
   ]
  },
  {
   "cell_type": "code",
   "execution_count": 601,
   "metadata": {},
   "outputs": [],
   "source": [
    "from sklearn.naive_bayes import GaussianNB"
   ]
  },
  {
   "cell_type": "code",
   "execution_count": 602,
   "metadata": {},
   "outputs": [
    {
     "data": {
      "text/plain": [
       "0.5089820359281437"
      ]
     },
     "execution_count": 602,
     "metadata": {},
     "output_type": "execute_result"
    }
   ],
   "source": [
    "gnb = GaussianNB()\n",
    "gnb.fit(X_train, y_train)\n",
    "gnb.score(X_test, y_test)"
   ]
  },
  {
   "cell_type": "code",
   "execution_count": null,
   "metadata": {},
   "outputs": [],
   "source": []
  }
 ],
 "metadata": {
  "kernelspec": {
   "display_name": "Python 3",
   "language": "python",
   "name": "python3"
  },
  "language_info": {
   "codemirror_mode": {
    "name": "ipython",
    "version": 3
   },
   "file_extension": ".py",
   "mimetype": "text/x-python",
   "name": "python",
   "nbconvert_exporter": "python",
   "pygments_lexer": "ipython3",
   "version": "3.8.3"
  }
 },
 "nbformat": 4,
 "nbformat_minor": 4
}
