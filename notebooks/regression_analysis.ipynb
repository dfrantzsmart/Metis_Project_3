{
 "cells": [
  {
   "cell_type": "code",
   "execution_count": 10,
   "metadata": {},
   "outputs": [],
   "source": [
    "import pandas as pd\n",
    "import numpy as np\n",
    "import matplotlib.pyplot as plt\n",
    "import seaborn as sns\n",
    "import math\n",
    "import datetime as dt\n",
    "\n",
    "folder='/Users/gavin/Documents/Metis/Coursework/Project_3/'\n",
    "\n",
    "pd.set_option('display.max_rows', None)\n",
    "pd.set_option('display.max_columns', None)\n",
    "pd.set_option('display.width', None)\n",
    "pd.set_option('display.max_colwidth', None)"
   ]
  },
  {
   "cell_type": "code",
   "execution_count": 11,
   "metadata": {},
   "outputs": [],
   "source": [
    "# import necessary libraries\n",
    "import matplotlib.pyplot as plt\n",
    "import scipy.stats as scs\n",
    "\n",
    "from sklearn.linear_model import LogisticRegression\n",
    "from sklearn.neighbors import KNeighborsClassifier\n",
    "from sklearn.model_selection import train_test_split\n",
    "from sklearn.preprocessing import OneHotEncoder, StandardScaler\n",
    "\n",
    "from sklearn.datasets import make_classification\n",
    "from sklearn.metrics import plot_confusion_matrix, plot_roc_curve, classification_report"
   ]
  },
  {
   "cell_type": "code",
   "execution_count": 12,
   "metadata": {},
   "outputs": [],
   "source": [
    "df = pd.read_csv(folder+'/data_cleaning/mvp_grid_final.csv', )"
   ]
  },
  {
   "cell_type": "code",
   "execution_count": 13,
   "metadata": {},
   "outputs": [],
   "source": [
    "df.drop('Unnamed: 0', axis=1, inplace=True)"
   ]
  },
  {
   "cell_type": "code",
   "execution_count": 14,
   "metadata": {},
   "outputs": [
    {
     "data": {
      "text/html": [
       "<div>\n",
       "<style scoped>\n",
       "    .dataframe tbody tr th:only-of-type {\n",
       "        vertical-align: middle;\n",
       "    }\n",
       "\n",
       "    .dataframe tbody tr th {\n",
       "        vertical-align: top;\n",
       "    }\n",
       "\n",
       "    .dataframe thead th {\n",
       "        text-align: right;\n",
       "    }\n",
       "</style>\n",
       "<table border=\"1\" class=\"dataframe\">\n",
       "  <thead>\n",
       "    <tr style=\"text-align: right;\">\n",
       "      <th></th>\n",
       "      <th>over_under_line</th>\n",
       "      <th>offensive_defensive_rank_diff</th>\n",
       "      <th>offensive_offensive_rank_dif</th>\n",
       "      <th>offense_defense_passing_completion</th>\n",
       "      <th>offense_rushing_vs_defense_rushing_allowed_yards</th>\n",
       "      <th>defense_offense_rank_dif</th>\n",
       "      <th>QB_rating</th>\n",
       "      <th>beat_spread</th>\n",
       "      <th>target_spread</th>\n",
       "    </tr>\n",
       "  </thead>\n",
       "  <tbody>\n",
       "    <tr>\n",
       "      <th>0</th>\n",
       "      <td>51.0</td>\n",
       "      <td>8</td>\n",
       "      <td>2</td>\n",
       "      <td>-0.001416</td>\n",
       "      <td>0.964683</td>\n",
       "      <td>-5</td>\n",
       "      <td>101.9</td>\n",
       "      <td>0</td>\n",
       "      <td>-7.0</td>\n",
       "    </tr>\n",
       "    <tr>\n",
       "      <th>1</th>\n",
       "      <td>41.0</td>\n",
       "      <td>-8</td>\n",
       "      <td>-14</td>\n",
       "      <td>-0.055876</td>\n",
       "      <td>1.100013</td>\n",
       "      <td>1</td>\n",
       "      <td>76.3</td>\n",
       "      <td>0</td>\n",
       "      <td>-7.5</td>\n",
       "    </tr>\n",
       "    <tr>\n",
       "      <th>2</th>\n",
       "      <td>45.5</td>\n",
       "      <td>-15</td>\n",
       "      <td>-21</td>\n",
       "      <td>0.030268</td>\n",
       "      <td>0.909334</td>\n",
       "      <td>-16</td>\n",
       "      <td>94.5</td>\n",
       "      <td>0</td>\n",
       "      <td>-4.0</td>\n",
       "    </tr>\n",
       "    <tr>\n",
       "      <th>3</th>\n",
       "      <td>48.5</td>\n",
       "      <td>-18</td>\n",
       "      <td>-24</td>\n",
       "      <td>-0.102663</td>\n",
       "      <td>1.199853</td>\n",
       "      <td>-8</td>\n",
       "      <td>74.1</td>\n",
       "      <td>0</td>\n",
       "      <td>-1.0</td>\n",
       "    </tr>\n",
       "    <tr>\n",
       "      <th>4</th>\n",
       "      <td>41.5</td>\n",
       "      <td>2</td>\n",
       "      <td>-4</td>\n",
       "      <td>0.018954</td>\n",
       "      <td>1.233704</td>\n",
       "      <td>2</td>\n",
       "      <td>95.4</td>\n",
       "      <td>1</td>\n",
       "      <td>-3.5</td>\n",
       "    </tr>\n",
       "  </tbody>\n",
       "</table>\n",
       "</div>"
      ],
      "text/plain": [
       "   over_under_line  offensive_defensive_rank_diff  \\\n",
       "0             51.0                              8   \n",
       "1             41.0                             -8   \n",
       "2             45.5                            -15   \n",
       "3             48.5                            -18   \n",
       "4             41.5                              2   \n",
       "\n",
       "   offensive_offensive_rank_dif  offense_defense_passing_completion  \\\n",
       "0                             2                           -0.001416   \n",
       "1                           -14                           -0.055876   \n",
       "2                           -21                            0.030268   \n",
       "3                           -24                           -0.102663   \n",
       "4                            -4                            0.018954   \n",
       "\n",
       "   offense_rushing_vs_defense_rushing_allowed_yards  defense_offense_rank_dif  \\\n",
       "0                                          0.964683                        -5   \n",
       "1                                          1.100013                         1   \n",
       "2                                          0.909334                       -16   \n",
       "3                                          1.199853                        -8   \n",
       "4                                          1.233704                         2   \n",
       "\n",
       "   QB_rating  beat_spread  target_spread  \n",
       "0      101.9            0           -7.0  \n",
       "1       76.3            0           -7.5  \n",
       "2       94.5            0           -4.0  \n",
       "3       74.1            0           -1.0  \n",
       "4       95.4            1           -3.5  "
      ]
     },
     "execution_count": 14,
     "metadata": {},
     "output_type": "execute_result"
    }
   ],
   "source": [
    "df.head()"
   ]
  },
  {
   "cell_type": "code",
   "execution_count": 15,
   "metadata": {},
   "outputs": [],
   "source": [
    "y = df['beat_spread']\n",
    "X = df.drop('beat_spread', axis=1)\n",
    "\n",
    "X, X_test, y, y_test = train_test_split(X, y, test_size=0.33, random_state=100)"
   ]
  },
  {
   "cell_type": "code",
   "execution_count": 16,
   "metadata": {},
   "outputs": [],
   "source": [
    "ss = StandardScaler()\n",
    "X_scale = ss.fit_transform(X)"
   ]
  },
  {
   "cell_type": "code",
   "execution_count": 17,
   "metadata": {},
   "outputs": [
    {
     "name": "stdout",
     "output_type": "stream",
     "text": [
      "              precision    recall  f1-score   support\n",
      "\n",
      "           0       0.60      0.65      0.62       935\n",
      "           1       0.58      0.53      0.55       853\n",
      "\n",
      "    accuracy                           0.59      1788\n",
      "   macro avg       0.59      0.59      0.59      1788\n",
      "weighted avg       0.59      0.59      0.59      1788\n",
      "\n"
     ]
    }
   ],
   "source": [
    "lr = LogisticRegression(penalty='none')\n",
    "\n",
    "lr.fit(X_scale, y)\n",
    "\n",
    "y_preds = lr.predict(X_scale)\n",
    "\n",
    "print(classification_report(y, y_preds))"
   ]
  },
  {
   "cell_type": "code",
   "execution_count": 18,
   "metadata": {},
   "outputs": [
    {
     "data": {
      "image/png": "[encoded data removed]",
      "text/plain": [
       "<Figure size 504x504 with 2 Axes>"
      ]
     },
     "metadata": {
      "needs_background": "light"
     },
     "output_type": "display_data"
    }
   ],
   "source": [
    "fig, ax = plt.subplots(figsize=(7, 7))\n",
    "plot_confusion_matrix(lr, X_scale, y, ax=ax);"
   ]
  },
  {
   "cell_type": "markdown",
   "metadata": {},
   "source": [
    "# KNN Analysis"
   ]
  },
  {
   "cell_type": "code",
   "execution_count": 20,
   "metadata": {},
   "outputs": [],
   "source": [
    "import matplotlib.pyplot as plt\n",
    "import seaborn as sns\n",
    "from scipy.spatial.distance import euclidean as euc\n",
    "import numpy as np\n",
    "import pandas as pd\n",
    "from sklearn.datasets import make_classification\n",
    "\n",
    "\n",
    "from sklearn.model_selection import train_test_split, cross_val_score\n",
    "from sklearn.metrics import mean_squared_error, r2_score\n",
    "from sklearn.preprocessing import StandardScaler\n",
    "\n",
    "from sklearn.metrics import classification_report\n",
    "from sklearn.linear_model import LogisticRegression\n",
    "from sklearn.neighbors import KNeighborsClassifier\n",
    "np.random.seed(0)"
   ]
  },
  {
   "cell_type": "code",
   "execution_count": 21,
   "metadata": {},
   "outputs": [],
   "source": [
    "from sklearn.neighbors import KNeighborsRegressor"
   ]
  },
  {
   "cell_type": "code",
   "execution_count": 54,
   "metadata": {},
   "outputs": [
    {
     "name": "stdout",
     "output_type": "stream",
     "text": [
      "Root Mean Squared Error: 0.04\n"
     ]
    }
   ],
   "source": [
    "nn = KNeighborsRegressor(n_neighbors=1, n_jobs=-1)\n",
    "\n",
    "nn.fit(X_scale, y)\n",
    "\n",
    "sk_preds = nn.predict(X_scale)\n",
    "\n",
    "rmse = np.sqrt(mean_squared_error(y, sk_preds))\n",
    "\n",
    "print(f'Root Mean Squared Error: {rmse:.2f}')"
   ]
  },
  {
   "cell_type": "code",
   "execution_count": 55,
   "metadata": {},
   "outputs": [],
   "source": [
    "ks = range(1, 30)\n",
    "\n",
    "test_errors = np.zeros(len(list(ks)))\n",
    "\n",
    "for i, k in enumerate(ks):\n",
    "    \n",
    "    nn = KNeighborsRegressor(n_neighbors=k, n_jobs=-1)\n",
    "\n",
    "    nn.fit(X_scale, y)\n",
    "    test_preds = nn.predict(X_scale)\n",
    "    \n",
    "    test_errors[i] = np.sqrt(mean_squared_error(y, test_preds))"
   ]
  },
  {
   "cell_type": "code",
   "execution_count": 56,
   "metadata": {},
   "outputs": [
    {
     "data": {
      "image/png": "[encoded data removed]",
      "text/plain": [
       "<Figure size 720x360 with 1 Axes>"
      ]
     },
     "metadata": {
      "needs_background": "light"
     },
     "output_type": "display_data"
    }
   ],
   "source": [
    "fig, ax = plt.subplots(figsize=(10, 5))\n",
    "\n",
    "ax.plot(list(ks), test_errors)\n",
    "ax.axvline(list(ks)[np.argmin(test_errors)], linestyle='--', color='black');"
   ]
  },
  {
   "cell_type": "code",
   "execution_count": 29,
   "metadata": {},
   "outputs": [
    {
     "name": "stdout",
     "output_type": "stream",
     "text": [
      "Optimal number of Neighbors: 1\n",
      "Root Mean Squared Error: 0.04\n"
     ]
    }
   ],
   "source": [
    "optimal_k = list(ks)[np.argmin(test_errors)]\n",
    "\n",
    "optimal_error = np.min(test_errors)\n",
    "\n",
    "print(f'Optimal number of Neighbors: {optimal_k}\\nRoot Mean Squared Error: {optimal_error:.2f}')"
   ]
  },
  {
   "cell_type": "code",
   "execution_count": 30,
   "metadata": {},
   "outputs": [],
   "source": [
    "X_test_scaled = ss.fit_transform(X_test)"
   ]
  },
  {
   "cell_type": "code",
   "execution_count": 57,
   "metadata": {},
   "outputs": [],
   "source": [
    "def plot_boundaries(model, X_test, X_train, ax, padding = 1, grid_granularity = 0.01, show_test=False, plot_probas=True):\n",
    "\n",
    "    x_min, x_max = X_train['A'].min() - padding, X_train['A'].max() + padding\n",
    "    y_min, y_max = X_train['B'].min() - padding, X_train['B'].max() + padding\n",
    "\n",
    "    xs = np.arange(x_min, x_max, grid_granularity)\n",
    "    ys = np.arange(y_min, y_max, grid_granularity)\n",
    "\n",
    "    xx, yy = np.meshgrid(xs, ys)\n",
    "    \n",
    "    \n",
    "    Z = model.predict_proba(np.c_[xx.ravel(), yy.ravel()])[:, 1]\n",
    "    \n",
    "    if not plot_probas:\n",
    "        Z = model.predict(np.c_[xx.ravel(), yy.ravel()])\n",
    "        \n",
    "    Z = Z.reshape(xx.shape)\n",
    "\n",
    "    ax.contourf(xx, yy , Z, cmap='PRGn', levels=20, alpha=.5)\n",
    "\n",
    "    train_positives = X_train[X_train['target'] == 1]\n",
    "    train_negatives = X_train[X_train['target'] == 0]\n",
    "\n",
    "    ax.scatter(train_positives['A'], train_positives['B'], color='forestgreen', edgecolors='lightgreen')\n",
    "    ax.scatter(train_negatives['A'], train_negatives['B'], color='purple', edgecolors='plum')\n",
    "\n",
    "    if show_test:\n",
    "        test_positives = X_test[X_test['target'] == 1]\n",
    "        test_negatives = X_test[X_test['target'] == 0]\n",
    "\n",
    "        ax.scatter(test_positives['A'], test_positives['B'], color='forestgreen', edgecolors='black')\n",
    "        ax.scatter(test_negatives['A'], test_negatives['B'], color='purple', edgecolors='black')"
   ]
  },
  {
   "cell_type": "code",
   "execution_count": 58,
   "metadata": {},
   "outputs": [
    {
     "data": {
      "image/png": "[encoded data removed]",
      "text/plain": [
       "<Figure size 1008x720 with 6 Axes>"
      ]
     },
     "metadata": {
      "needs_background": "light"
     },
     "output_type": "display_data"
    }
   ],
   "source": [
    "fig, axes = plt.subplots(nrows=2, ncols=3, figsize=(14, 10), sharey=True, sharex=True)\n",
    "\n",
    "ks = [1, 2, 5, 10 , 15, 30]\n",
    "\n",
    "for k, ax in zip(ks, axes.flatten()):\n",
    "    \n",
    "    knn = KNeighborsClassifier(n_neighbors=k)\n",
    "    knn.fit(X_scale, y)\n",
    "    \n",
    "    train_preds = knn.score(X_scale, y)\n",
    "    test_preds = knn.score(X_test_scaled, y_test)\n",
    "    \n",
    "    ax.set_title(f'k={knn.n_neighbors} \\n train acc {train_preds:.2f} \\n test acc: {test_preds:.2f}')\n",
    "    \n",
    "fig.tight_layout()"
   ]
  },
  {
   "cell_type": "markdown",
   "metadata": {},
   "source": [
    "# Tree Based Models"
   ]
  },
  {
   "cell_type": "code",
   "execution_count": 36,
   "metadata": {},
   "outputs": [],
   "source": [
    "import matplotlib.pyplot as plt\n",
    "%matplotlib inline\n",
    "import matplotlib.cm as cm\n",
    "import numpy as np\n",
    "import random"
   ]
  },
  {
   "cell_type": "code",
   "execution_count": 37,
   "metadata": {},
   "outputs": [],
   "source": [
    "from sklearn.tree import DecisionTreeClassifier\n",
    "from sklearn.svm import LinearSVC\n",
    "from sklearn.svm import SVC\n",
    "from sklearn.ensemble import RandomForestClassifier\n",
    "from sklearn.linear_model import LogisticRegression"
   ]
  },
  {
   "cell_type": "code",
   "execution_count": 39,
   "metadata": {},
   "outputs": [],
   "source": [
    "def quick_test(model, X, y):\n",
    "    xtrain, xtest, ytrain, ytest = train_test_split(X, y, test_size=0.3)\n",
    "    model.fit(xtrain, ytrain)\n",
    "    return model.score(xtest, ytest)\n",
    "\n",
    "def quick_test_afew_times(model, X, y, n=10):\n",
    "    return np.mean([quick_test(model, X, y) for j in range(n)])"
   ]
  },
  {
   "cell_type": "code",
   "execution_count": 40,
   "metadata": {},
   "outputs": [],
   "source": [
    "y_all = df['beat_spread']\n",
    "X_all = df.drop('beat_spread', axis=1)"
   ]
  },
  {
   "cell_type": "code",
   "execution_count": 64,
   "metadata": {},
   "outputs": [],
   "source": [
    "decisiontree = DecisionTreeClassifier(max_depth=4)\n",
    "linearsvc = LinearSVC()"
   ]
  },
  {
   "cell_type": "code",
   "execution_count": 60,
   "metadata": {},
   "outputs": [
    {
     "name": "stderr",
     "output_type": "stream",
     "text": [
      "/opt/anaconda3/lib/python3.8/site-packages/sklearn/svm/_base.py:976: ConvergenceWarning: Liblinear failed to converge, increase the number of iterations.\n",
      "  warnings.warn(\"Liblinear failed to converge, increase \"\n",
      "/opt/anaconda3/lib/python3.8/site-packages/sklearn/svm/_base.py:976: ConvergenceWarning: Liblinear failed to converge, increase the number of iterations.\n",
      "  warnings.warn(\"Liblinear failed to converge, increase \"\n",
      "/opt/anaconda3/lib/python3.8/site-packages/sklearn/svm/_base.py:976: ConvergenceWarning: Liblinear failed to converge, increase the number of iterations.\n",
      "  warnings.warn(\"Liblinear failed to converge, increase \"\n",
      "/opt/anaconda3/lib/python3.8/site-packages/sklearn/svm/_base.py:976: ConvergenceWarning: Liblinear failed to converge, increase the number of iterations.\n",
      "  warnings.warn(\"Liblinear failed to converge, increase \"\n",
      "/opt/anaconda3/lib/python3.8/site-packages/sklearn/svm/_base.py:976: ConvergenceWarning: Liblinear failed to converge, increase the number of iterations.\n",
      "  warnings.warn(\"Liblinear failed to converge, increase \"\n",
      "/opt/anaconda3/lib/python3.8/site-packages/sklearn/svm/_base.py:976: ConvergenceWarning: Liblinear failed to converge, increase the number of iterations.\n",
      "  warnings.warn(\"Liblinear failed to converge, increase \"\n",
      "/opt/anaconda3/lib/python3.8/site-packages/sklearn/svm/_base.py:976: ConvergenceWarning: Liblinear failed to converge, increase the number of iterations.\n",
      "  warnings.warn(\"Liblinear failed to converge, increase \"\n",
      "/opt/anaconda3/lib/python3.8/site-packages/sklearn/svm/_base.py:976: ConvergenceWarning: Liblinear failed to converge, increase the number of iterations.\n",
      "  warnings.warn(\"Liblinear failed to converge, increase \"\n",
      "/opt/anaconda3/lib/python3.8/site-packages/sklearn/svm/_base.py:976: ConvergenceWarning: Liblinear failed to converge, increase the number of iterations.\n",
      "  warnings.warn(\"Liblinear failed to converge, increase \"\n",
      "/opt/anaconda3/lib/python3.8/site-packages/sklearn/svm/_base.py:976: ConvergenceWarning: Liblinear failed to converge, increase the number of iterations.\n",
      "  warnings.warn(\"Liblinear failed to converge, increase \"\n"
     ]
    },
    {
     "data": {
      "text/plain": [
       "0.5102372034956304"
      ]
     },
     "execution_count": 60,
     "metadata": {},
     "output_type": "execute_result"
    }
   ],
   "source": [
    "quick_test_afew_times(linearsvc, X_all, y_all)"
   ]
  },
  {
   "cell_type": "code",
   "execution_count": 67,
   "metadata": {},
   "outputs": [
    {
     "data": {
      "text/plain": [
       "0.5353308364544319"
      ]
     },
     "execution_count": 67,
     "metadata": {},
     "output_type": "execute_result"
    }
   ],
   "source": [
    "quick_test_afew_times(decisiontree, X_all, y_all, )"
   ]
  },
  {
   "cell_type": "code",
   "execution_count": 47,
   "metadata": {},
   "outputs": [
    {
     "data": {
      "text/html": [
       "<div>\n",
       "<style scoped>\n",
       "    .dataframe tbody tr th:only-of-type {\n",
       "        vertical-align: middle;\n",
       "    }\n",
       "\n",
       "    .dataframe tbody tr th {\n",
       "        vertical-align: top;\n",
       "    }\n",
       "\n",
       "    .dataframe thead th {\n",
       "        text-align: right;\n",
       "    }\n",
       "</style>\n",
       "<table border=\"1\" class=\"dataframe\">\n",
       "  <thead>\n",
       "    <tr style=\"text-align: right;\">\n",
       "      <th></th>\n",
       "      <th>over_under_line</th>\n",
       "      <th>offensive_defensive_rank_diff</th>\n",
       "      <th>offensive_offensive_rank_dif</th>\n",
       "      <th>offense_defense_passing_completion</th>\n",
       "      <th>offense_rushing_vs_defense_rushing_allowed_yards</th>\n",
       "      <th>defense_offense_rank_dif</th>\n",
       "      <th>QB_rating</th>\n",
       "      <th>beat_spread</th>\n",
       "      <th>target_spread</th>\n",
       "    </tr>\n",
       "  </thead>\n",
       "  <tbody>\n",
       "    <tr>\n",
       "      <th>0</th>\n",
       "      <td>51.0</td>\n",
       "      <td>8</td>\n",
       "      <td>2</td>\n",
       "      <td>-0.001416</td>\n",
       "      <td>0.964683</td>\n",
       "      <td>-5</td>\n",
       "      <td>101.9</td>\n",
       "      <td>0</td>\n",
       "      <td>-7.0</td>\n",
       "    </tr>\n",
       "    <tr>\n",
       "      <th>1</th>\n",
       "      <td>41.0</td>\n",
       "      <td>-8</td>\n",
       "      <td>-14</td>\n",
       "      <td>-0.055876</td>\n",
       "      <td>1.100013</td>\n",
       "      <td>1</td>\n",
       "      <td>76.3</td>\n",
       "      <td>0</td>\n",
       "      <td>-7.5</td>\n",
       "    </tr>\n",
       "    <tr>\n",
       "      <th>2</th>\n",
       "      <td>45.5</td>\n",
       "      <td>-15</td>\n",
       "      <td>-21</td>\n",
       "      <td>0.030268</td>\n",
       "      <td>0.909334</td>\n",
       "      <td>-16</td>\n",
       "      <td>94.5</td>\n",
       "      <td>0</td>\n",
       "      <td>-4.0</td>\n",
       "    </tr>\n",
       "    <tr>\n",
       "      <th>3</th>\n",
       "      <td>48.5</td>\n",
       "      <td>-18</td>\n",
       "      <td>-24</td>\n",
       "      <td>-0.102663</td>\n",
       "      <td>1.199853</td>\n",
       "      <td>-8</td>\n",
       "      <td>74.1</td>\n",
       "      <td>0</td>\n",
       "      <td>-1.0</td>\n",
       "    </tr>\n",
       "    <tr>\n",
       "      <th>4</th>\n",
       "      <td>41.5</td>\n",
       "      <td>2</td>\n",
       "      <td>-4</td>\n",
       "      <td>0.018954</td>\n",
       "      <td>1.233704</td>\n",
       "      <td>2</td>\n",
       "      <td>95.4</td>\n",
       "      <td>1</td>\n",
       "      <td>-3.5</td>\n",
       "    </tr>\n",
       "  </tbody>\n",
       "</table>\n",
       "</div>"
      ],
      "text/plain": [
       "   over_under_line  offensive_defensive_rank_diff  \\\n",
       "0             51.0                              8   \n",
       "1             41.0                             -8   \n",
       "2             45.5                            -15   \n",
       "3             48.5                            -18   \n",
       "4             41.5                              2   \n",
       "\n",
       "   offensive_offensive_rank_dif  offense_defense_passing_completion  \\\n",
       "0                             2                           -0.001416   \n",
       "1                           -14                           -0.055876   \n",
       "2                           -21                            0.030268   \n",
       "3                           -24                           -0.102663   \n",
       "4                            -4                            0.018954   \n",
       "\n",
       "   offense_rushing_vs_defense_rushing_allowed_yards  defense_offense_rank_dif  \\\n",
       "0                                          0.964683                        -5   \n",
       "1                                          1.100013                         1   \n",
       "2                                          0.909334                       -16   \n",
       "3                                          1.199853                        -8   \n",
       "4                                          1.233704                         2   \n",
       "\n",
       "   QB_rating  beat_spread  target_spread  \n",
       "0      101.9            0           -7.0  \n",
       "1       76.3            0           -7.5  \n",
       "2       94.5            0           -4.0  \n",
       "3       74.1            0           -1.0  \n",
       "4       95.4            1           -3.5  "
      ]
     },
     "execution_count": 47,
     "metadata": {},
     "output_type": "execute_result"
    }
   ],
   "source": [
    "df"
   ]
  },
  {
   "cell_type": "code",
   "execution_count": 49,
   "metadata": {},
   "outputs": [],
   "source": [
    "df.to_csv('/Users/gavin/Documents/Metis/Coursework/Project_3/data_cleaning/feature_engineering.csv')"
   ]
  },
  {
   "cell_type": "code",
   "execution_count": null,
   "metadata": {},
   "outputs": [],
   "source": []
  }
 ],
 "metadata": {
  "kernelspec": {
   "display_name": "Python 3",
   "language": "python",
   "name": "python3"
  },
  "language_info": {
   "codemirror_mode": {
    "name": "ipython",
    "version": 3
   },
   "file_extension": ".py",
   "mimetype": "text/x-python",
   "name": "python",
   "nbconvert_exporter": "python",
   "pygments_lexer": "ipython3",
   "version": "3.8.3"
  }
 },
 "nbformat": 4,
 "nbformat_minor": 4
}
