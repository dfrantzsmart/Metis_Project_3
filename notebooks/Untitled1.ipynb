{
 "cells": [
  {
   "cell_type": "code",
   "execution_count": 1,
   "metadata": {},
   "outputs": [],
   "source": [
    "import pandas as pd"
   ]
  },
  {
   "cell_type": "code",
   "execution_count": 2,
   "metadata": {},
   "outputs": [],
   "source": [
    "df=pd.read_excel('/Users/gavin/Documents/metis/coursework/project_3/data_sources/NFL_week_data.xlsx')"
   ]
  },
  {
   "cell_type": "code",
   "execution_count": 3,
   "metadata": {},
   "outputs": [
    {
     "data": {
      "text/html": [
       "<div>\n",
       "<style scoped>\n",
       "    .dataframe tbody tr th:only-of-type {\n",
       "        vertical-align: middle;\n",
       "    }\n",
       "\n",
       "    .dataframe tbody tr th {\n",
       "        vertical-align: top;\n",
       "    }\n",
       "\n",
       "    .dataframe thead th {\n",
       "        text-align: right;\n",
       "    }\n",
       "</style>\n",
       "<table border=\"1\" class=\"dataframe\">\n",
       "  <thead>\n",
       "    <tr style=\"text-align: right;\">\n",
       "      <th></th>\n",
       "      <th>schedule_date</th>\n",
       "      <th>schedule_season</th>\n",
       "      <th>schedule_week</th>\n",
       "      <th>target</th>\n",
       "      <th>target_score</th>\n",
       "      <th>opponent_score</th>\n",
       "      <th>opponent</th>\n",
       "      <th>target_spread</th>\n",
       "      <th>opponent_spread</th>\n",
       "      <th>target_games_played</th>\n",
       "      <th>opponent_games_played</th>\n",
       "      <th>target_off_points_scored</th>\n",
       "      <th>opponent_off_points_scored</th>\n",
       "      <th>target_def_points_against</th>\n",
       "      <th>opponent_def_points_against</th>\n",
       "    </tr>\n",
       "  </thead>\n",
       "  <tbody>\n",
       "    <tr>\n",
       "      <th>0</th>\n",
       "      <td>2015-09-10</td>\n",
       "      <td>2015</td>\n",
       "      <td>1</td>\n",
       "      <td>New England Patriots</td>\n",
       "      <td>28</td>\n",
       "      <td>21</td>\n",
       "      <td>Pittsburgh Steelers</td>\n",
       "      <td>-7.0</td>\n",
       "      <td>7.0</td>\n",
       "      <td>NaN</td>\n",
       "      <td>NaN</td>\n",
       "      <td>NaN</td>\n",
       "      <td>NaN</td>\n",
       "      <td>NaN</td>\n",
       "      <td>NaN</td>\n",
       "    </tr>\n",
       "    <tr>\n",
       "      <th>1</th>\n",
       "      <td>2015-09-10</td>\n",
       "      <td>2015</td>\n",
       "      <td>1</td>\n",
       "      <td>Pittsburgh Steelers</td>\n",
       "      <td>21</td>\n",
       "      <td>28</td>\n",
       "      <td>New England Patriots</td>\n",
       "      <td>7.0</td>\n",
       "      <td>-7.0</td>\n",
       "      <td>NaN</td>\n",
       "      <td>NaN</td>\n",
       "      <td>NaN</td>\n",
       "      <td>NaN</td>\n",
       "      <td>NaN</td>\n",
       "      <td>NaN</td>\n",
       "    </tr>\n",
       "    <tr>\n",
       "      <th>2</th>\n",
       "      <td>2015-09-13</td>\n",
       "      <td>2015</td>\n",
       "      <td>1</td>\n",
       "      <td>Arizona Cardinals</td>\n",
       "      <td>31</td>\n",
       "      <td>19</td>\n",
       "      <td>New Orleans Saints</td>\n",
       "      <td>-2.5</td>\n",
       "      <td>2.5</td>\n",
       "      <td>NaN</td>\n",
       "      <td>NaN</td>\n",
       "      <td>NaN</td>\n",
       "      <td>NaN</td>\n",
       "      <td>NaN</td>\n",
       "      <td>NaN</td>\n",
       "    </tr>\n",
       "    <tr>\n",
       "      <th>3</th>\n",
       "      <td>2015-09-13</td>\n",
       "      <td>2015</td>\n",
       "      <td>1</td>\n",
       "      <td>Buffalo Bills</td>\n",
       "      <td>27</td>\n",
       "      <td>14</td>\n",
       "      <td>Indianapolis Colts</td>\n",
       "      <td>1.0</td>\n",
       "      <td>-1.0</td>\n",
       "      <td>NaN</td>\n",
       "      <td>NaN</td>\n",
       "      <td>NaN</td>\n",
       "      <td>NaN</td>\n",
       "      <td>NaN</td>\n",
       "      <td>NaN</td>\n",
       "    </tr>\n",
       "    <tr>\n",
       "      <th>4</th>\n",
       "      <td>2015-09-13</td>\n",
       "      <td>2015</td>\n",
       "      <td>1</td>\n",
       "      <td>Chicago Bears</td>\n",
       "      <td>23</td>\n",
       "      <td>31</td>\n",
       "      <td>Green Bay Packers</td>\n",
       "      <td>6.5</td>\n",
       "      <td>-6.5</td>\n",
       "      <td>NaN</td>\n",
       "      <td>NaN</td>\n",
       "      <td>NaN</td>\n",
       "      <td>NaN</td>\n",
       "      <td>NaN</td>\n",
       "      <td>NaN</td>\n",
       "    </tr>\n",
       "  </tbody>\n",
       "</table>\n",
       "</div>"
      ],
      "text/plain": [
       "  schedule_date  schedule_season  schedule_week                target  \\\n",
       "0    2015-09-10             2015              1  New England Patriots   \n",
       "1    2015-09-10             2015              1   Pittsburgh Steelers   \n",
       "2    2015-09-13             2015              1     Arizona Cardinals   \n",
       "3    2015-09-13             2015              1         Buffalo Bills   \n",
       "4    2015-09-13             2015              1         Chicago Bears   \n",
       "\n",
       "   target_score  opponent_score              opponent  target_spread  \\\n",
       "0            28              21   Pittsburgh Steelers           -7.0   \n",
       "1            21              28  New England Patriots            7.0   \n",
       "2            31              19    New Orleans Saints           -2.5   \n",
       "3            27              14    Indianapolis Colts            1.0   \n",
       "4            23              31     Green Bay Packers            6.5   \n",
       "\n",
       "   opponent_spread  target_games_played  opponent_games_played  \\\n",
       "0              7.0                  NaN                    NaN   \n",
       "1             -7.0                  NaN                    NaN   \n",
       "2              2.5                  NaN                    NaN   \n",
       "3             -1.0                  NaN                    NaN   \n",
       "4             -6.5                  NaN                    NaN   \n",
       "\n",
       "   target_off_points_scored  opponent_off_points_scored  \\\n",
       "0                       NaN                         NaN   \n",
       "1                       NaN                         NaN   \n",
       "2                       NaN                         NaN   \n",
       "3                       NaN                         NaN   \n",
       "4                       NaN                         NaN   \n",
       "\n",
       "   target_def_points_against  opponent_def_points_against  \n",
       "0                        NaN                          NaN  \n",
       "1                        NaN                          NaN  \n",
       "2                        NaN                          NaN  \n",
       "3                        NaN                          NaN  \n",
       "4                        NaN                          NaN  "
      ]
     },
     "execution_count": 3,
     "metadata": {},
     "output_type": "execute_result"
    }
   ],
   "source": [
    "df.head()"
   ]
  },
  {
   "cell_type": "code",
   "execution_count": 4,
   "metadata": {},
   "outputs": [],
   "source": [
    "df['target_off_points_game'] = df['target_off_points_scored']/df['target_games_played']\n",
    "df['opponent_off_points_game'] = df['opponent_off_points_scored']/df['opponent_games_played']\n",
    "df['target_def_points_against_game'] = df['target_def_points_against']/df['target_games_played']\n",
    "df['opponent_def_points_against_game'] = df['opponent_def_points_against']/df['opponent_games_played']"
   ]
  },
  {
   "cell_type": "code",
   "execution_count": 5,
   "metadata": {},
   "outputs": [],
   "source": [
    "df['target_score_spread_adj'] = df['target_score']+df['target_spread']\n",
    "df['beat_spread']=0\n",
    "df.loc[df['target_score_spread_adj']>df['opponent_score'], 'beat_spread'] = 1"
   ]
  },
  {
   "cell_type": "code",
   "execution_count": 6,
   "metadata": {},
   "outputs": [],
   "source": [
    "df['off_spread_impactor'] = 150-df['target_spread']\n",
    "df['def_spread_impactor'] = 150-df['target_spread']"
   ]
  },
  {
   "cell_type": "code",
   "execution_count": 7,
   "metadata": {},
   "outputs": [],
   "source": [
    "df['off_points_SI'] = df['target_off_points_game']/df['opponent_off_points_game']/df['off_spread_impactor']*100\n",
    "df['def_points_SI'] = df['target_def_points_against_game']/df['opponent_def_points_against_game']/df['def_spread_impactor']*100"
   ]
  },
  {
   "cell_type": "code",
   "execution_count": 8,
   "metadata": {},
   "outputs": [],
   "source": [
    "df['target_favorite'] = 0\n",
    "df.loc[df['target_spread']<0,'target_favorite']=1"
   ]
  },
  {
   "cell_type": "code",
   "execution_count": 9,
   "metadata": {},
   "outputs": [],
   "source": [
    "import numpy as np\n",
    "import matplotlib.pyplot as plt\n",
    "import seaborn as sns\n",
    "plt.style.use('ggplot')\n",
    "\n",
    "%matplotlib inline\n",
    "\n",
    "from sklearn.linear_model import LogisticRegression\n",
    "from sklearn.model_selection import train_test_split\n",
    "from sklearn.metrics import precision_score, recall_score, accuracy_score, roc_auc_score\n",
    "from sklearn.metrics import confusion_matrix\n",
    "from sklearn.preprocessing import StandardScaler\n",
    "from sklearn.ensemble import RandomForestClassifier"
   ]
  },
  {
   "cell_type": "code",
   "execution_count": 10,
   "metadata": {},
   "outputs": [],
   "source": [
    "df_run = df[df['schedule_week']>=3].copy()"
   ]
  },
  {
   "cell_type": "code",
   "execution_count": 11,
   "metadata": {},
   "outputs": [
    {
     "data": {
      "text/html": [
       "<div>\n",
       "<style scoped>\n",
       "    .dataframe tbody tr th:only-of-type {\n",
       "        vertical-align: middle;\n",
       "    }\n",
       "\n",
       "    .dataframe tbody tr th {\n",
       "        vertical-align: top;\n",
       "    }\n",
       "\n",
       "    .dataframe thead th {\n",
       "        text-align: right;\n",
       "    }\n",
       "</style>\n",
       "<table border=\"1\" class=\"dataframe\">\n",
       "  <thead>\n",
       "    <tr style=\"text-align: right;\">\n",
       "      <th></th>\n",
       "      <th>schedule_date</th>\n",
       "      <th>schedule_season</th>\n",
       "      <th>schedule_week</th>\n",
       "      <th>target</th>\n",
       "      <th>target_score</th>\n",
       "      <th>opponent_score</th>\n",
       "      <th>opponent</th>\n",
       "      <th>target_spread</th>\n",
       "      <th>opponent_spread</th>\n",
       "      <th>target_games_played</th>\n",
       "      <th>...</th>\n",
       "      <th>opponent_off_points_game</th>\n",
       "      <th>target_def_points_against_game</th>\n",
       "      <th>opponent_def_points_against_game</th>\n",
       "      <th>target_score_spread_adj</th>\n",
       "      <th>beat_spread</th>\n",
       "      <th>off_spread_impactor</th>\n",
       "      <th>def_spread_impactor</th>\n",
       "      <th>off_points_SI</th>\n",
       "      <th>def_points_SI</th>\n",
       "      <th>target_favorite</th>\n",
       "    </tr>\n",
       "  </thead>\n",
       "  <tbody>\n",
       "    <tr>\n",
       "      <th>64</th>\n",
       "      <td>2015-09-24</td>\n",
       "      <td>2015</td>\n",
       "      <td>3</td>\n",
       "      <td>New York Giants</td>\n",
       "      <td>32</td>\n",
       "      <td>21</td>\n",
       "      <td>Washington Redskins</td>\n",
       "      <td>-3.0</td>\n",
       "      <td>3.0</td>\n",
       "      <td>2.0</td>\n",
       "      <td>...</td>\n",
       "      <td>17.0</td>\n",
       "      <td>25.5</td>\n",
       "      <td>13.5</td>\n",
       "      <td>29.0</td>\n",
       "      <td>1</td>\n",
       "      <td>153.0</td>\n",
       "      <td>153.0</td>\n",
       "      <td>0.884275</td>\n",
       "      <td>1.234568</td>\n",
       "      <td>1</td>\n",
       "    </tr>\n",
       "    <tr>\n",
       "      <th>65</th>\n",
       "      <td>2015-09-24</td>\n",
       "      <td>2015</td>\n",
       "      <td>3</td>\n",
       "      <td>Washington Redskins</td>\n",
       "      <td>21</td>\n",
       "      <td>32</td>\n",
       "      <td>New York Giants</td>\n",
       "      <td>3.0</td>\n",
       "      <td>-3.0</td>\n",
       "      <td>2.0</td>\n",
       "      <td>...</td>\n",
       "      <td>23.0</td>\n",
       "      <td>13.5</td>\n",
       "      <td>25.5</td>\n",
       "      <td>24.0</td>\n",
       "      <td>0</td>\n",
       "      <td>147.0</td>\n",
       "      <td>147.0</td>\n",
       "      <td>0.502810</td>\n",
       "      <td>0.360144</td>\n",
       "      <td>0</td>\n",
       "    </tr>\n",
       "    <tr>\n",
       "      <th>66</th>\n",
       "      <td>2015-09-27</td>\n",
       "      <td>2015</td>\n",
       "      <td>3</td>\n",
       "      <td>Arizona Cardinals</td>\n",
       "      <td>47</td>\n",
       "      <td>7</td>\n",
       "      <td>San Francisco 49ers</td>\n",
       "      <td>-7.0</td>\n",
       "      <td>7.0</td>\n",
       "      <td>2.0</td>\n",
       "      <td>...</td>\n",
       "      <td>19.0</td>\n",
       "      <td>21.0</td>\n",
       "      <td>23.0</td>\n",
       "      <td>40.0</td>\n",
       "      <td>1</td>\n",
       "      <td>157.0</td>\n",
       "      <td>157.0</td>\n",
       "      <td>1.324170</td>\n",
       "      <td>0.581556</td>\n",
       "      <td>1</td>\n",
       "    </tr>\n",
       "    <tr>\n",
       "      <th>67</th>\n",
       "      <td>2015-09-27</td>\n",
       "      <td>2015</td>\n",
       "      <td>3</td>\n",
       "      <td>Baltimore Ravens</td>\n",
       "      <td>24</td>\n",
       "      <td>28</td>\n",
       "      <td>Cincinnati Bengals</td>\n",
       "      <td>-1.5</td>\n",
       "      <td>1.5</td>\n",
       "      <td>2.0</td>\n",
       "      <td>...</td>\n",
       "      <td>28.5</td>\n",
       "      <td>28.0</td>\n",
       "      <td>16.0</td>\n",
       "      <td>22.5</td>\n",
       "      <td>0</td>\n",
       "      <td>151.5</td>\n",
       "      <td>151.5</td>\n",
       "      <td>0.532685</td>\n",
       "      <td>1.155116</td>\n",
       "      <td>1</td>\n",
       "    </tr>\n",
       "    <tr>\n",
       "      <th>68</th>\n",
       "      <td>2015-09-27</td>\n",
       "      <td>2015</td>\n",
       "      <td>3</td>\n",
       "      <td>Carolina Panthers</td>\n",
       "      <td>27</td>\n",
       "      <td>22</td>\n",
       "      <td>New Orleans Saints</td>\n",
       "      <td>-9.5</td>\n",
       "      <td>9.5</td>\n",
       "      <td>2.0</td>\n",
       "      <td>...</td>\n",
       "      <td>19.0</td>\n",
       "      <td>13.0</td>\n",
       "      <td>28.5</td>\n",
       "      <td>17.5</td>\n",
       "      <td>0</td>\n",
       "      <td>159.5</td>\n",
       "      <td>159.5</td>\n",
       "      <td>0.725953</td>\n",
       "      <td>0.285981</td>\n",
       "      <td>1</td>\n",
       "    </tr>\n",
       "  </tbody>\n",
       "</table>\n",
       "<p>5 rows × 26 columns</p>\n",
       "</div>"
      ],
      "text/plain": [
       "   schedule_date  schedule_season  schedule_week               target  \\\n",
       "64    2015-09-24             2015              3      New York Giants   \n",
       "65    2015-09-24             2015              3  Washington Redskins   \n",
       "66    2015-09-27             2015              3    Arizona Cardinals   \n",
       "67    2015-09-27             2015              3     Baltimore Ravens   \n",
       "68    2015-09-27             2015              3    Carolina Panthers   \n",
       "\n",
       "    target_score  opponent_score             opponent  target_spread  \\\n",
       "64            32              21  Washington Redskins           -3.0   \n",
       "65            21              32      New York Giants            3.0   \n",
       "66            47               7  San Francisco 49ers           -7.0   \n",
       "67            24              28   Cincinnati Bengals           -1.5   \n",
       "68            27              22   New Orleans Saints           -9.5   \n",
       "\n",
       "    opponent_spread  target_games_played  ...  opponent_off_points_game  \\\n",
       "64              3.0                  2.0  ...                      17.0   \n",
       "65             -3.0                  2.0  ...                      23.0   \n",
       "66              7.0                  2.0  ...                      19.0   \n",
       "67              1.5                  2.0  ...                      28.5   \n",
       "68              9.5                  2.0  ...                      19.0   \n",
       "\n",
       "    target_def_points_against_game  opponent_def_points_against_game  \\\n",
       "64                            25.5                              13.5   \n",
       "65                            13.5                              25.5   \n",
       "66                            21.0                              23.0   \n",
       "67                            28.0                              16.0   \n",
       "68                            13.0                              28.5   \n",
       "\n",
       "    target_score_spread_adj  beat_spread  off_spread_impactor  \\\n",
       "64                     29.0            1                153.0   \n",
       "65                     24.0            0                147.0   \n",
       "66                     40.0            1                157.0   \n",
       "67                     22.5            0                151.5   \n",
       "68                     17.5            0                159.5   \n",
       "\n",
       "    def_spread_impactor  off_points_SI  def_points_SI  target_favorite  \n",
       "64                153.0       0.884275       1.234568                1  \n",
       "65                147.0       0.502810       0.360144                0  \n",
       "66                157.0       1.324170       0.581556                1  \n",
       "67                151.5       0.532685       1.155116                1  \n",
       "68                159.5       0.725953       0.285981                1  \n",
       "\n",
       "[5 rows x 26 columns]"
      ]
     },
     "execution_count": 11,
     "metadata": {},
     "output_type": "execute_result"
    }
   ],
   "source": [
    "df_run.head()"
   ]
  },
  {
   "cell_type": "code",
   "execution_count": 12,
   "metadata": {},
   "outputs": [],
   "source": [
    "df_run = df_run[(df_run['def_points_SI']!=np.inf) & (df_run['off_points_SI']!=np.inf)]\n",
    "df_run.reset_index(drop=True, inplace=True)"
   ]
  },
  {
   "cell_type": "code",
   "execution_count": 13,
   "metadata": {},
   "outputs": [],
   "source": [
    "X = df_run[['off_points_SI', 'def_points_SI', 'target_favorite']]\n",
    "y = df_run['beat_spread']\n",
    "\n",
    "X_train, X_test, y_train, y_test = train_test_split(X,y, test_size = 0.3, random_state=42)"
   ]
  },
  {
   "cell_type": "code",
   "execution_count": null,
   "metadata": {},
   "outputs": [],
   "source": [
    "ss = StandardScaler()\n",
    "xscale_train = ss.fit_transform(X_train)\n",
    "xscale_test = ss.fit_transform(X_test)"
   ]
  },
  {
   "cell_type": "code",
   "execution_count": null,
   "metadata": {},
   "outputs": [],
   "source": [
    "lr = LogisticRegression()\n",
    "lr.fit(xscale_train, y_train)\n",
    "lr.score(xscale_test, y_test)"
   ]
  },
  {
   "cell_type": "code",
   "execution_count": null,
   "metadata": {},
   "outputs": [],
   "source": [
    "scores =[]\n",
    "for i in range(3, 17):\n",
    "    df_run = df[df['schedule_week']>=2].copy()\n",
    "\n",
    "    df_run = df_run[(df_run['def_points_SI']!=np.inf) & (df_run['off_points_SI']!=np.inf)]\n",
    "    df_run.reset_index(drop=True, inplace=True)\n",
    "\n",
    "    df_run = df_run[(df_run['def_points_SI']!=np.inf) & (df_run['off_points_SI']!=np.inf)]\n",
    "    df_run.reset_index(drop=True, inplace=True)\n",
    "\n",
    "    X = df_run[['targ_off_points_SI', 'targ_def_points_SI']]\n",
    "    y = df_run['beat_spread']\n",
    "\n",
    "    X_train, X_test, y_train, y_test = train_test_split(X,y, test_size = 0.5, random_state=42)\n",
    "\n",
    "    ss = StandardScaler()\n",
    "    xscale_train = ss.fit_transform(X_train)\n",
    "    xscale_test = ss.fit_transform(X_test)\n",
    "\n",
    "    lr = LogisticRegression()\n",
    "    lr.fit(xscale_train, y_train)\n",
    "    score = lr.score(xscale_test, y_test)\n",
    "    scores.append([i, score])\n",
    "    "
   ]
  },
  {
   "cell_type": "code",
   "execution_count": null,
   "metadata": {},
   "outputs": [],
   "source": [
    "scores"
   ]
  },
  {
   "cell_type": "code",
   "execution_count": null,
   "metadata": {},
   "outputs": [],
   "source": [
    "randomforest = RandomForestClassifier()\n",
    "randomforest.fit(X_train, y_train)\n",
    "randomforest.score(X_test, y_test)"
   ]
  },
  {
   "cell_type": "code",
   "execution_count": null,
   "metadata": {},
   "outputs": [],
   "source": [
    "from sklearn.neighbors import KNeighborsClassifier\n",
    "knn = KNeighborsClassifier(n_neighbors=3)\n",
    "nearest = knn.fit(X_train, y_train)\n",
    "print(nearest.score(xscale_train, y_train))\n",
    "print(nearest.score(xscale_test, y_test))"
   ]
  },
  {
   "cell_type": "code",
   "execution_count": 14,
   "metadata": {},
   "outputs": [
    {
     "name": "stdout",
     "output_type": "stream",
     "text": [
      "Populating the interactive namespace from numpy and matplotlib\n"
     ]
    }
   ],
   "source": [
    "#######################\n",
    "# standard code block #\n",
    "#######################\n",
    "\n",
    "# see https://ipython.readthedocs.io/en/stable/interactive/magics.html\n",
    "%pylab inline\n",
    "\n",
    "# sets backend to render higher res images\n",
    "%config InlineBackend.figure_formats = ['retina']\n",
    "\n",
    "#######################\n",
    "#       imports       #\n",
    "#######################\n",
    "import pandas as pd\n",
    "import seaborn as sns\n",
    "# from sklearn.datasets import california_housing\n",
    "# from sklearn.datasets import load_breast_cancer\n",
    "# from sklearn.metrics import accuracy_score\n",
    "import xgboost as xgb\n",
    "\n",
    "sns.set_style(\"whitegrid\")"
   ]
  },
  {
   "cell_type": "code",
   "execution_count": 15,
   "metadata": {},
   "outputs": [],
   "source": [
    "#Split data into 3: 60% train, 20% validation, 20% test\n",
    "X_train, X_test, y_train, y_test = train_test_split(X, y, test_size=0.2, random_state=1)\n",
    "X_train, X_val, y_train, y_val = train_test_split(X_train, y_train, test_size=0.25, random_state=2)"
   ]
  },
  {
   "cell_type": "code",
   "execution_count": 23,
   "metadata": {},
   "outputs": [
    {
     "name": "stdout",
     "output_type": "stream",
     "text": [
      "[0]\tvalidation_0-auc:0.57729\tvalidation_1-auc:0.50681\n",
      "Multiple eval metrics have been passed: 'validation_1-auc' will be used for early stopping.\n",
      "\n",
      "Will train until validation_1-auc hasn't improved in 50 rounds.\n",
      "[1]\tvalidation_0-auc:0.59949\tvalidation_1-auc:0.48445\n",
      "[2]\tvalidation_0-auc:0.61869\tvalidation_1-auc:0.46646\n",
      "[3]\tvalidation_0-auc:0.61918\tvalidation_1-auc:0.47281\n",
      "[4]\tvalidation_0-auc:0.61999\tvalidation_1-auc:0.48475\n",
      "[5]\tvalidation_0-auc:0.61587\tvalidation_1-auc:0.48435\n",
      "[6]\tvalidation_0-auc:0.63595\tvalidation_1-auc:0.47295\n",
      "[7]\tvalidation_0-auc:0.63887\tvalidation_1-auc:0.47920\n",
      "[8]\tvalidation_0-auc:0.63731\tvalidation_1-auc:0.48460\n",
      "[9]\tvalidation_0-auc:0.64180\tvalidation_1-auc:0.48399\n",
      "[10]\tvalidation_0-auc:0.64608\tvalidation_1-auc:0.48253\n",
      "[11]\tvalidation_0-auc:0.64608\tvalidation_1-auc:0.48264\n",
      "[12]\tvalidation_0-auc:0.65021\tvalidation_1-auc:0.49143\n",
      "[13]\tvalidation_0-auc:0.65040\tvalidation_1-auc:0.49167\n",
      "[14]\tvalidation_0-auc:0.66151\tvalidation_1-auc:0.48480\n",
      "[15]\tvalidation_0-auc:0.67026\tvalidation_1-auc:0.47604\n",
      "[16]\tvalidation_0-auc:0.66852\tvalidation_1-auc:0.47709\n",
      "[17]\tvalidation_0-auc:0.67600\tvalidation_1-auc:0.46787\n",
      "[18]\tvalidation_0-auc:0.67560\tvalidation_1-auc:0.47128\n",
      "[19]\tvalidation_0-auc:0.67819\tvalidation_1-auc:0.47686\n",
      "[20]\tvalidation_0-auc:0.68347\tvalidation_1-auc:0.47697\n",
      "[21]\tvalidation_0-auc:0.68344\tvalidation_1-auc:0.47472\n",
      "[22]\tvalidation_0-auc:0.68396\tvalidation_1-auc:0.47500\n",
      "[23]\tvalidation_0-auc:0.68407\tvalidation_1-auc:0.47730\n",
      "[24]\tvalidation_0-auc:0.68355\tvalidation_1-auc:0.47714\n",
      "[25]\tvalidation_0-auc:0.68298\tvalidation_1-auc:0.48116\n",
      "[26]\tvalidation_0-auc:0.68403\tvalidation_1-auc:0.48169\n",
      "[27]\tvalidation_0-auc:0.68480\tvalidation_1-auc:0.48436\n",
      "[28]\tvalidation_0-auc:0.68466\tvalidation_1-auc:0.48172\n",
      "[29]\tvalidation_0-auc:0.68764\tvalidation_1-auc:0.47988\n",
      "[30]\tvalidation_0-auc:0.68816\tvalidation_1-auc:0.48039\n",
      "[31]\tvalidation_0-auc:0.69097\tvalidation_1-auc:0.47698\n",
      "[32]\tvalidation_0-auc:0.69310\tvalidation_1-auc:0.47638\n",
      "[33]\tvalidation_0-auc:0.69847\tvalidation_1-auc:0.47510\n",
      "[34]\tvalidation_0-auc:0.70014\tvalidation_1-auc:0.47782\n",
      "[35]\tvalidation_0-auc:0.70140\tvalidation_1-auc:0.47720\n",
      "[36]\tvalidation_0-auc:0.70139\tvalidation_1-auc:0.47641\n",
      "[37]\tvalidation_0-auc:0.70429\tvalidation_1-auc:0.47643\n",
      "[38]\tvalidation_0-auc:0.70535\tvalidation_1-auc:0.47827\n",
      "[39]\tvalidation_0-auc:0.70511\tvalidation_1-auc:0.47887\n",
      "[40]\tvalidation_0-auc:0.70815\tvalidation_1-auc:0.47984\n",
      "[41]\tvalidation_0-auc:0.71072\tvalidation_1-auc:0.47847\n",
      "[42]\tvalidation_0-auc:0.71145\tvalidation_1-auc:0.48011\n",
      "[43]\tvalidation_0-auc:0.71288\tvalidation_1-auc:0.47924\n",
      "[44]\tvalidation_0-auc:0.71535\tvalidation_1-auc:0.48272\n",
      "[45]\tvalidation_0-auc:0.71521\tvalidation_1-auc:0.48463\n",
      "[46]\tvalidation_0-auc:0.71549\tvalidation_1-auc:0.48385\n",
      "[47]\tvalidation_0-auc:0.71672\tvalidation_1-auc:0.48285\n",
      "[48]\tvalidation_0-auc:0.72245\tvalidation_1-auc:0.47834\n",
      "[49]\tvalidation_0-auc:0.72214\tvalidation_1-auc:0.47692\n",
      "[50]\tvalidation_0-auc:0.72440\tvalidation_1-auc:0.47502\n",
      "Stopping. Best iteration:\n",
      "[0]\tvalidation_0-auc:0.57729\tvalidation_1-auc:0.50681\n",
      "\n"
     ]
    },
    {
     "data": {
      "text/plain": [
       "0.5439330543933054"
      ]
     },
     "execution_count": 23,
     "metadata": {},
     "output_type": "execute_result"
    }
   ],
   "source": [
    "gbm = xgb.XGBClassifier( \n",
    "                        n_estimators=30000,\n",
    "                        max_depth=4,\n",
    "                        objective='binary:logistic', #new objective\n",
    "                        learning_rate=.05, \n",
    "                        subsample=.8,\n",
    "                        min_child_weight=3,\n",
    "                        colsample_bytree=.8\n",
    "                       )\n",
    "\n",
    "eval_set=[(X_train,y_train),(X_val,y_val)]\n",
    "fit_model = gbm.fit( \n",
    "                    X_train, y_train, \n",
    "                    eval_set=eval_set,\n",
    "                    eval_metric='auc', #new evaluation metric: classification error (could also use AUC, e.g.)\n",
    "                    early_stopping_rounds=50,\n",
    "                    verbose=True\n",
    "                   )\n",
    "\n",
    "accuracy_score(y_test, gbm.predict(X_test, ntree_limit=gbm.best_ntree_limit)) "
   ]
  },
  {
   "cell_type": "code",
   "execution_count": 22,
   "metadata": {},
   "outputs": [],
   "source": [
    "import pickle\n",
    "outfile = open('nflxgb.pkl', 'wb')\n",
    "pickle.dump(gbm, outfile)\n",
    "outfile.close()"
   ]
  },
  {
   "cell_type": "code",
   "execution_count": 20,
   "metadata": {},
   "outputs": [],
   "source": [
    "infile = open('nflxgb.pkl', 'rb')\n",
    "model = pickle.load(infile)"
   ]
  },
  {
   "cell_type": "code",
   "execution_count": 21,
   "metadata": {},
   "outputs": [
    {
     "data": {
      "text/plain": [
       "0.5418410041841004"
      ]
     },
     "execution_count": 21,
     "metadata": {},
     "output_type": "execute_result"
    }
   ],
   "source": [
    "accuracy_score(y_test, model.predict(X_test, ntree_limit=gbm.best_ntree_limit))"
   ]
  },
  {
   "cell_type": "code",
   "execution_count": null,
   "metadata": {},
   "outputs": [],
   "source": [
    "df_trees = X_test.reset_index(drop=True)"
   ]
  },
  {
   "cell_type": "code",
   "execution_count": null,
   "metadata": {},
   "outputs": [],
   "source": [
    "df_trees['beat_spread'] = y_test.reset_index(drop=True)"
   ]
  },
  {
   "cell_type": "code",
   "execution_count": null,
   "metadata": {},
   "outputs": [],
   "source": [
    "df_trees['guess'] = gbm.predict(X_test, ntree_limit=gbm.best_ntree_limit)"
   ]
  },
  {
   "cell_type": "code",
   "execution_count": null,
   "metadata": {},
   "outputs": [],
   "source": [
    "df_trees[df_trees['guess']==1].beat_spread.sum()"
   ]
  },
  {
   "cell_type": "code",
   "execution_count": null,
   "metadata": {},
   "outputs": [],
   "source": [
    "df_trees[df_trees['guess']==1]"
   ]
  },
  {
   "cell_type": "code",
   "execution_count": null,
   "metadata": {},
   "outputs": [],
   "source": [
    "98/195"
   ]
  },
  {
   "cell_type": "code",
   "execution_count": null,
   "metadata": {},
   "outputs": [],
   "source": [
    "df_trees.head()"
   ]
  },
  {
   "cell_type": "code",
   "execution_count": null,
   "metadata": {},
   "outputs": [],
   "source": [
    "df_"
   ]
  },
  {
   "cell_type": "code",
   "execution_count": null,
   "metadata": {},
   "outputs": [],
   "source": [
    "df_trees[df_trees['guess']==1].shape"
   ]
  },
  {
   "cell_type": "code",
   "execution_count": null,
   "metadata": {},
   "outputs": [],
   "source": [
    "df_trees[df_trees['guess']==1].beat_spread.sum()"
   ]
  },
  {
   "cell_type": "code",
   "execution_count": null,
   "metadata": {},
   "outputs": [],
   "source": [
    "410/737"
   ]
  },
  {
   "cell_type": "code",
   "execution_count": null,
   "metadata": {},
   "outputs": [],
   "source": [
    "df['spread_impactor'] = (100-df[]"
   ]
  },
  {
   "cell_type": "code",
   "execution_count": null,
   "metadata": {},
   "outputs": [],
   "source": [
    "from sklearn.naive_bayes import BernoulliNB, MultinomialNB, GaussianNB"
   ]
  },
  {
   "cell_type": "code",
   "execution_count": null,
   "metadata": {},
   "outputs": [],
   "source": []
  },
  {
   "cell_type": "code",
   "execution_count": null,
   "metadata": {},
   "outputs": [],
   "source": [
    "X_train, X_test, y_train, y_test = train_test_split(X, y, test_size=0.5, random_state=42)"
   ]
  },
  {
   "cell_type": "code",
   "execution_count": null,
   "metadata": {},
   "outputs": [],
   "source": [
    "nb_bern = BernoulliNB()\n",
    "nb_bern.fit(xscale_train, y_train)\n",
    "nb_bern.score(xscale_test, y_test)"
   ]
  },
  {
   "cell_type": "code",
   "execution_count": null,
   "metadata": {},
   "outputs": [],
   "source": [
    "nb = GaussianNB()\n",
    "nb.fit(X_train, y_train)\n",
    "nb.score(X_test, y_test)"
   ]
  },
  {
   "cell_type": "code",
   "execution_count": null,
   "metadata": {},
   "outputs": [],
   "source": [
    "nb.fit(X)"
   ]
  },
  {
   "cell_type": "code",
   "execution_count": null,
   "metadata": {},
   "outputs": [],
   "source": [
    "# Let's look at what lm1 did\n",
    "import matplotlib.pyplot as plt\n",
    "\n",
    "feature = X_test\n",
    "prediction_hard = nb_mult.predict(feature)\n",
    "\n",
    "sf_mask = (y_test == 1).values\n",
    "\n",
    "plt.plot(feature[sf_mask], prediction_hard[sf_mask], 'ro', label='True', alpha=0.2)\n",
    "plt.plot(feature[~sf_mask], prediction_hard[~sf_mask], 'bo', label='False', alpha=0.2)\n",
    "plt.ylim(-0.05, 1.05)\n",
    "plt.xlabel('score')\n",
    "plt.ylabel('Prediction (1=Win)')\n",
    "plt.title('Logistic regression prediction for Wins V Loss')\n",
    "plt.legend(loc='lower right');"
   ]
  },
  {
   "cell_type": "code",
   "execution_count": null,
   "metadata": {},
   "outputs": [],
   "source": [
    "df_run['prob_true']=nb_mult.predict_proba(X)[:,1]"
   ]
  },
  {
   "cell_type": "code",
   "execution_count": null,
   "metadata": {},
   "outputs": [],
   "source": [
    "df_run[(df_run['prob_true']>.5)]"
   ]
  },
  {
   "cell_type": "code",
   "execution_count": null,
   "metadata": {},
   "outputs": [],
   "source": [
    "df_run[(df_run['prob_true']>.6)].beat_spread.sum()"
   ]
  },
  {
   "cell_type": "code",
   "execution_count": null,
   "metadata": {},
   "outputs": [],
   "source": [
    "70/129"
   ]
  },
  {
   "cell_type": "code",
   "execution_count": null,
   "metadata": {},
   "outputs": [],
   "source": [
    "df_run.rename(columns = {'off_points_SI':'target_off_points_SI', 'def_points_SI':'target_def_points_SI', 'prob_true':'target_prob_true'}, inplace=True)"
   ]
  },
  {
   "cell_type": "code",
   "execution_count": null,
   "metadata": {},
   "outputs": [],
   "source": [
    "df_run.head(30)"
   ]
  },
  {
   "cell_type": "code",
   "execution_count": null,
   "metadata": {},
   "outputs": [],
   "source": [
    "df_run['schedule_season_str']=df_run['schedule_season'].apply(str)\n",
    "df_run['schedule_week_str']=df_run['schedule_week'].apply(str)\n",
    "# df_run['identifier'] = df_run['schedule_season_str']+_+(df_run['schedule_week_str'])+_+df_run['target']+_+df_run['opponent']"
   ]
  },
  {
   "cell_type": "code",
   "execution_count": null,
   "metadata": {},
   "outputs": [],
   "source": [
    "df_run.drop(['schedule_season_str', 'schedule_week_str', 'identifier'], axis=1, inplace=True)"
   ]
  },
  {
   "cell_type": "code",
   "execution_count": null,
   "metadata": {},
   "outputs": [],
   "source": [
    "df_run['identifier'] = df_run['schedule_date'].apply(str)+'_'+df_run['target']+'_'+df_run['opponent']"
   ]
  },
  {
   "cell_type": "code",
   "execution_count": null,
   "metadata": {},
   "outputs": [],
   "source": [
    "df_run['identifier1']=df_run['identifier'].str.split('_')"
   ]
  },
  {
   "cell_type": "code",
   "execution_count": null,
   "metadata": {},
   "outputs": [],
   "source": [
    "df_run['identifier1']=df_run['identifier']"
   ]
  },
  {
   "cell_type": "code",
   "execution_count": null,
   "metadata": {},
   "outputs": [],
   "source": [
    "df_run['identifier'] = df_run.identifier1.apply(sorted)"
   ]
  },
  {
   "cell_type": "code",
   "execution_count": null,
   "metadata": {},
   "outputs": [],
   "source": [
    "df_run['opponent_prob']=0"
   ]
  },
  {
   "cell_type": "code",
   "execution_count": null,
   "metadata": {},
   "outputs": [],
   "source": [
    "df_run['opponent_prob'] = df_run.loc[(df_run['identifier']==df_run['identifier1'])& (df_run['target']==df_run['opponent']),'target_prob_true']"
   ]
  },
  {
   "cell_type": "code",
   "execution_count": null,
   "metadata": {},
   "outputs": [],
   "source": []
  },
  {
   "cell_type": "code",
   "execution_count": null,
   "metadata": {},
   "outputs": [],
   "source": [
    "df_run.dtypes"
   ]
  },
  {
   "cell_type": "code",
   "execution_count": null,
   "metadata": {},
   "outputs": [],
   "source": [
    "df_run.head()"
   ]
  },
  {
   "cell_type": "code",
   "execution_count": null,
   "metadata": {},
   "outputs": [],
   "source": []
  }
 ],
 "metadata": {
  "kernelspec": {
   "display_name": "Python 3",
   "language": "python",
   "name": "python3"
  },
  "language_info": {
   "codemirror_mode": {
    "name": "ipython",
    "version": 3
   },
   "file_extension": ".py",
   "mimetype": "text/x-python",
   "name": "python",
   "nbconvert_exporter": "python",
   "pygments_lexer": "ipython3",
   "version": "3.8.3"
  }
 },
 "nbformat": 4,
 "nbformat_minor": 4
}
